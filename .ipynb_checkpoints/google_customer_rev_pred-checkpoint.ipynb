{
 "cells": [
  {
   "cell_type": "markdown",
   "metadata": {},
   "source": [
    "# USE CASE\n",
    "<hr>\n",
    "The 80/20 rule has proven true for many businesses–only a small percentage of customers produce most of the revenue. As such, marketing teams are challenged to make appropriate investments in promotional strategies.\n",
    "<br>\n",
    "GStore RStudio, the developer of free and open tools for R and enterprise-ready products for teams to scale and share work, has partnered with Google Cloud and Kaggle to demonstrate the business impact that thorough data analysis can have.\n",
    "<br>\n",
    "In this competition, you’re challenged to analyze a Google Merchandise Store (also known as GStore, where Google swag is sold) customer dataset to predict revenue per customer. Hopefully, the outcome will be more actionable operational changes and a better use of marketing budgets for those companies who choose to use data analysis on top of GA data."
   ]
  },
  {
   "cell_type": "markdown",
   "metadata": {},
   "source": [
    "# Import required libraries"
   ]
  },
  {
   "cell_type": "code",
   "execution_count": 1,
   "metadata": {
    "collapsed": true
   },
   "outputs": [],
   "source": [
    "import pandas as pd\n",
    "import numpy as np\n",
    "import matplotlib.pyplot as plt\n",
    "import seaborn as sns\n",
    "import json\n",
    "import datetime as datetime\n",
    "from sklearn import preprocessing\n",
    "from sklearn.ensemble import RandomForestRegressor\n",
    "from sklearn.model_selection import train_test_split\n",
    "from sklearn import metrics\n",
    "from sklearn.externals import joblib\n",
    "import warnings"
   ]
  },
  {
   "cell_type": "code",
   "execution_count": null,
   "metadata": {},
   "outputs": [],
   "source": [
    "%matplotlib inline\n",
    "plt.style.use('ggplot')\n",
    "warnings.filterwarnings('ignore')\n",
    "le=preprocessing.LabelEncoder()"
   ]
  },
  {
   "cell_type": "markdown",
   "metadata": {},
   "source": [
    "# Load data"
   ]
  },
  {
   "cell_type": "code",
   "execution_count": 2,
   "metadata": {},
   "outputs": [
    {
     "name": "stderr",
     "output_type": "stream",
     "text": [
      "C:\\Users\\songaya\\Anaconda3\\lib\\site-packages\\IPython\\core\\interactiveshell.py:2717: DtypeWarning: Columns (3) have mixed types. Specify dtype option on import or set low_memory=False.\n",
      "  interactivity=interactivity, compiler=compiler, result=result)\n"
     ]
    }
   ],
   "source": [
    "train=pd.read_csv(\"data/train.csv\")"
   ]
  },
  {
   "cell_type": "code",
   "execution_count": 2,
   "metadata": {},
   "outputs": [
    {
     "name": "stderr",
     "output_type": "stream",
     "text": [
      "C:\\Users\\songaya\\Anaconda3\\lib\\site-packages\\IPython\\core\\interactiveshell.py:2717: DtypeWarning: Columns (3) have mixed types. Specify dtype option on import or set low_memory=False.\n",
      "  interactivity=interactivity, compiler=compiler, result=result)\n"
     ]
    }
   ],
   "source": [
    "test=pd.read_csv(\"data/test.csv\")"
   ]
  },
  {
   "cell_type": "markdown",
   "metadata": {},
   "source": [
    "Get records and columns"
   ]
  },
  {
   "cell_type": "code",
   "execution_count": 4,
   "metadata": {},
   "outputs": [
    {
     "data": {
      "text/plain": [
       "(804684, 12)"
      ]
     },
     "execution_count": 4,
     "metadata": {},
     "output_type": "execute_result"
    }
   ],
   "source": [
    "test.shape"
   ]
  },
  {
   "cell_type": "markdown",
   "metadata": {
    "collapsed": true
   },
   "source": [
    "# Let's Flatten json data for device, geoNetwork, totals and trafficSource"
   ]
  },
  {
   "cell_type": "markdown",
   "metadata": {},
   "source": [
    "device data"
   ]
  },
  {
   "cell_type": "code",
   "execution_count": 5,
   "metadata": {},
   "outputs": [
    {
     "data": {
      "text/plain": [
       "0    {\"browser\": \"Chrome\", \"browserVersion\": \"not a...\n",
       "1    {\"browser\": \"Firefox\", \"browserVersion\": \"not ...\n",
       "2    {\"browser\": \"Chrome\", \"browserVersion\": \"not a...\n",
       "3    {\"browser\": \"UC Browser\", \"browserVersion\": \"n...\n",
       "4    {\"browser\": \"Chrome\", \"browserVersion\": \"not a...\n",
       "Name: device, dtype: object"
      ]
     },
     "execution_count": 5,
     "metadata": {},
     "output_type": "execute_result"
    }
   ],
   "source": [
    "train['device'].head()"
   ]
  },
  {
   "cell_type": "markdown",
   "metadata": {},
   "source": [
    "device json fields"
   ]
  },
  {
   "cell_type": "code",
   "execution_count": 6,
   "metadata": {},
   "outputs": [
    {
     "data": {
      "text/plain": [
       "['mobileDeviceModel',\n",
       " 'browser',\n",
       " 'operatingSystemVersion',\n",
       " 'mobileDeviceInfo',\n",
       " 'screenColors',\n",
       " 'mobileInputSelector',\n",
       " 'screenResolution',\n",
       " 'language',\n",
       " 'isMobile',\n",
       " 'mobileDeviceBranding',\n",
       " 'operatingSystem',\n",
       " 'browserSize',\n",
       " 'browserVersion',\n",
       " 'mobileDeviceMarketingName',\n",
       " 'flashVersion',\n",
       " 'deviceCategory']"
      ]
     },
     "execution_count": 6,
     "metadata": {},
     "output_type": "execute_result"
    }
   ],
   "source": [
    "totals_list=train['device'].apply(json.loads).tolist()\n",
    "keys=[]\n",
    "\n",
    "for i in totals_list:\n",
    "    for j in list(i.keys()):\n",
    "        if j not in keys:\n",
    "            keys.append(j)\n",
    "keys"
   ]
  },
  {
   "cell_type": "markdown",
   "metadata": {},
   "source": [
    "json array data"
   ]
  },
  {
   "cell_type": "code",
   "execution_count": 7,
   "metadata": {},
   "outputs": [
    {
     "data": {
      "text/plain": [
       "{'browser': 'Chrome',\n",
       " 'browserSize': 'not available in demo dataset',\n",
       " 'browserVersion': 'not available in demo dataset',\n",
       " 'deviceCategory': 'desktop',\n",
       " 'flashVersion': 'not available in demo dataset',\n",
       " 'isMobile': False,\n",
       " 'language': 'not available in demo dataset',\n",
       " 'mobileDeviceBranding': 'not available in demo dataset',\n",
       " 'mobileDeviceInfo': 'not available in demo dataset',\n",
       " 'mobileDeviceMarketingName': 'not available in demo dataset',\n",
       " 'mobileDeviceModel': 'not available in demo dataset',\n",
       " 'mobileInputSelector': 'not available in demo dataset',\n",
       " 'operatingSystem': 'Windows',\n",
       " 'operatingSystemVersion': 'not available in demo dataset',\n",
       " 'screenColors': 'not available in demo dataset',\n",
       " 'screenResolution': 'not available in demo dataset'}"
      ]
     },
     "execution_count": 7,
     "metadata": {},
     "output_type": "execute_result"
    }
   ],
   "source": [
    "train['device'].apply(json.loads)[0]"
   ]
  },
  {
   "cell_type": "markdown",
   "metadata": {},
   "source": [
    "Let's create a new DataFrame for device fields with data "
   ]
  },
  {
   "cell_type": "code",
   "execution_count": 4,
   "metadata": {},
   "outputs": [
    {
     "data": {
      "text/html": [
       "<div>\n",
       "<style>\n",
       "    .dataframe thead tr:only-child th {\n",
       "        text-align: right;\n",
       "    }\n",
       "\n",
       "    .dataframe thead th {\n",
       "        text-align: left;\n",
       "    }\n",
       "\n",
       "    .dataframe tbody tr th {\n",
       "        vertical-align: top;\n",
       "    }\n",
       "</style>\n",
       "<table border=\"1\" class=\"dataframe\">\n",
       "  <thead>\n",
       "    <tr style=\"text-align: right;\">\n",
       "      <th></th>\n",
       "      <th>browser</th>\n",
       "      <th>deviceCategory</th>\n",
       "      <th>operatingSystem</th>\n",
       "      <th>language</th>\n",
       "      <th>browserVersion</th>\n",
       "      <th>browserSize</th>\n",
       "      <th>mobileDeviceMarketingName</th>\n",
       "      <th>mobileDeviceModel</th>\n",
       "      <th>screenResolution</th>\n",
       "    </tr>\n",
       "  </thead>\n",
       "  <tbody>\n",
       "    <tr>\n",
       "      <th>0</th>\n",
       "      <td>Chrome</td>\n",
       "      <td>desktop</td>\n",
       "      <td>Windows</td>\n",
       "      <td>not available in demo dataset</td>\n",
       "      <td>not available in demo dataset</td>\n",
       "      <td>not available in demo dataset</td>\n",
       "      <td>not available in demo dataset</td>\n",
       "      <td>not available in demo dataset</td>\n",
       "      <td>not available in demo dataset</td>\n",
       "    </tr>\n",
       "    <tr>\n",
       "      <th>1</th>\n",
       "      <td>Firefox</td>\n",
       "      <td>desktop</td>\n",
       "      <td>Macintosh</td>\n",
       "      <td>not available in demo dataset</td>\n",
       "      <td>not available in demo dataset</td>\n",
       "      <td>not available in demo dataset</td>\n",
       "      <td>not available in demo dataset</td>\n",
       "      <td>not available in demo dataset</td>\n",
       "      <td>not available in demo dataset</td>\n",
       "    </tr>\n",
       "    <tr>\n",
       "      <th>2</th>\n",
       "      <td>Chrome</td>\n",
       "      <td>desktop</td>\n",
       "      <td>Windows</td>\n",
       "      <td>not available in demo dataset</td>\n",
       "      <td>not available in demo dataset</td>\n",
       "      <td>not available in demo dataset</td>\n",
       "      <td>not available in demo dataset</td>\n",
       "      <td>not available in demo dataset</td>\n",
       "      <td>not available in demo dataset</td>\n",
       "    </tr>\n",
       "    <tr>\n",
       "      <th>3</th>\n",
       "      <td>UC Browser</td>\n",
       "      <td>desktop</td>\n",
       "      <td>Linux</td>\n",
       "      <td>not available in demo dataset</td>\n",
       "      <td>not available in demo dataset</td>\n",
       "      <td>not available in demo dataset</td>\n",
       "      <td>not available in demo dataset</td>\n",
       "      <td>not available in demo dataset</td>\n",
       "      <td>not available in demo dataset</td>\n",
       "    </tr>\n",
       "    <tr>\n",
       "      <th>4</th>\n",
       "      <td>Chrome</td>\n",
       "      <td>mobile</td>\n",
       "      <td>Android</td>\n",
       "      <td>not available in demo dataset</td>\n",
       "      <td>not available in demo dataset</td>\n",
       "      <td>not available in demo dataset</td>\n",
       "      <td>not available in demo dataset</td>\n",
       "      <td>not available in demo dataset</td>\n",
       "      <td>not available in demo dataset</td>\n",
       "    </tr>\n",
       "  </tbody>\n",
       "</table>\n",
       "</div>"
      ],
      "text/plain": [
       "      browser deviceCategory operatingSystem                       language  \\\n",
       "0      Chrome        desktop         Windows  not available in demo dataset   \n",
       "1     Firefox        desktop       Macintosh  not available in demo dataset   \n",
       "2      Chrome        desktop         Windows  not available in demo dataset   \n",
       "3  UC Browser        desktop           Linux  not available in demo dataset   \n",
       "4      Chrome         mobile         Android  not available in demo dataset   \n",
       "\n",
       "                  browserVersion                    browserSize  \\\n",
       "0  not available in demo dataset  not available in demo dataset   \n",
       "1  not available in demo dataset  not available in demo dataset   \n",
       "2  not available in demo dataset  not available in demo dataset   \n",
       "3  not available in demo dataset  not available in demo dataset   \n",
       "4  not available in demo dataset  not available in demo dataset   \n",
       "\n",
       "       mobileDeviceMarketingName              mobileDeviceModel  \\\n",
       "0  not available in demo dataset  not available in demo dataset   \n",
       "1  not available in demo dataset  not available in demo dataset   \n",
       "2  not available in demo dataset  not available in demo dataset   \n",
       "3  not available in demo dataset  not available in demo dataset   \n",
       "4  not available in demo dataset  not available in demo dataset   \n",
       "\n",
       "                screenResolution  \n",
       "0  not available in demo dataset  \n",
       "1  not available in demo dataset  \n",
       "2  not available in demo dataset  \n",
       "3  not available in demo dataset  \n",
       "4  not available in demo dataset  "
      ]
     },
     "execution_count": 4,
     "metadata": {},
     "output_type": "execute_result"
    }
   ],
   "source": [
    "device_df=pd.DataFrame(train['device'].apply(json.loads).tolist())[['browser','deviceCategory','operatingSystem','language','browserVersion','browserSize','mobileDeviceMarketingName','mobileDeviceModel','screenResolution']]\n",
    "device_df.head()"
   ]
  },
  {
   "cell_type": "markdown",
   "metadata": {},
   "source": [
    "geoNetwork data"
   ]
  },
  {
   "cell_type": "code",
   "execution_count": 9,
   "metadata": {},
   "outputs": [
    {
     "data": {
      "text/plain": [
       "0    {\"continent\": \"Asia\", \"subContinent\": \"Western...\n",
       "1    {\"continent\": \"Oceania\", \"subContinent\": \"Aust...\n",
       "2    {\"continent\": \"Europe\", \"subContinent\": \"South...\n",
       "3    {\"continent\": \"Asia\", \"subContinent\": \"Southea...\n",
       "4    {\"continent\": \"Europe\", \"subContinent\": \"North...\n",
       "Name: geoNetwork, dtype: object"
      ]
     },
     "execution_count": 9,
     "metadata": {},
     "output_type": "execute_result"
    }
   ],
   "source": [
    "train['geoNetwork'].head()"
   ]
  },
  {
   "cell_type": "markdown",
   "metadata": {},
   "source": [
    "geoNetwork json fields"
   ]
  },
  {
   "cell_type": "code",
   "execution_count": 10,
   "metadata": {},
   "outputs": [
    {
     "data": {
      "text/plain": [
       "['metro',\n",
       " 'country',\n",
       " 'longitude',\n",
       " 'latitude',\n",
       " 'continent',\n",
       " 'city',\n",
       " 'networkLocation',\n",
       " 'networkDomain',\n",
       " 'region',\n",
       " 'subContinent',\n",
       " 'cityId']"
      ]
     },
     "execution_count": 10,
     "metadata": {},
     "output_type": "execute_result"
    }
   ],
   "source": [
    "geoNetwork_list=train['geoNetwork'].apply(json.loads).tolist()\n",
    "keys=[]\n",
    "for i in geoNetwork_list:\n",
    "    for j in list(i.keys()):\n",
    "        if j not in keys:\n",
    "            keys.append(j)\n",
    "\n",
    "keys"
   ]
  },
  {
   "cell_type": "markdown",
   "metadata": {},
   "source": [
    "geoNetwork json data"
   ]
  },
  {
   "cell_type": "code",
   "execution_count": 11,
   "metadata": {},
   "outputs": [
    {
     "data": {
      "text/plain": [
       "{'city': 'Izmir',\n",
       " 'cityId': 'not available in demo dataset',\n",
       " 'continent': 'Asia',\n",
       " 'country': 'Turkey',\n",
       " 'latitude': 'not available in demo dataset',\n",
       " 'longitude': 'not available in demo dataset',\n",
       " 'metro': '(not set)',\n",
       " 'networkDomain': 'ttnet.com.tr',\n",
       " 'networkLocation': 'not available in demo dataset',\n",
       " 'region': 'Izmir',\n",
       " 'subContinent': 'Western Asia'}"
      ]
     },
     "execution_count": 11,
     "metadata": {},
     "output_type": "execute_result"
    }
   ],
   "source": [
    "train['geoNetwork'].apply(json.loads)[0]"
   ]
  },
  {
   "cell_type": "markdown",
   "metadata": {},
   "source": [
    "Let's create a new DataFrame for geoNetwork fields with data i.e city,continent,country,region,subContinent"
   ]
  },
  {
   "cell_type": "code",
   "execution_count": 5,
   "metadata": {},
   "outputs": [
    {
     "data": {
      "text/html": [
       "<div>\n",
       "<style>\n",
       "    .dataframe thead tr:only-child th {\n",
       "        text-align: right;\n",
       "    }\n",
       "\n",
       "    .dataframe thead th {\n",
       "        text-align: left;\n",
       "    }\n",
       "\n",
       "    .dataframe tbody tr th {\n",
       "        vertical-align: top;\n",
       "    }\n",
       "</style>\n",
       "<table border=\"1\" class=\"dataframe\">\n",
       "  <thead>\n",
       "    <tr style=\"text-align: right;\">\n",
       "      <th></th>\n",
       "      <th>continent</th>\n",
       "      <th>subContinent</th>\n",
       "      <th>region</th>\n",
       "      <th>country</th>\n",
       "      <th>city</th>\n",
       "      <th>metro</th>\n",
       "      <th>networkLocation</th>\n",
       "      <th>latitude</th>\n",
       "      <th>longitude</th>\n",
       "      <th>networkDomain</th>\n",
       "    </tr>\n",
       "  </thead>\n",
       "  <tbody>\n",
       "    <tr>\n",
       "      <th>0</th>\n",
       "      <td>Asia</td>\n",
       "      <td>Western Asia</td>\n",
       "      <td>Izmir</td>\n",
       "      <td>Turkey</td>\n",
       "      <td>Izmir</td>\n",
       "      <td>(not set)</td>\n",
       "      <td>not available in demo dataset</td>\n",
       "      <td>not available in demo dataset</td>\n",
       "      <td>not available in demo dataset</td>\n",
       "      <td>ttnet.com.tr</td>\n",
       "    </tr>\n",
       "    <tr>\n",
       "      <th>1</th>\n",
       "      <td>Oceania</td>\n",
       "      <td>Australasia</td>\n",
       "      <td>not available in demo dataset</td>\n",
       "      <td>Australia</td>\n",
       "      <td>not available in demo dataset</td>\n",
       "      <td>not available in demo dataset</td>\n",
       "      <td>not available in demo dataset</td>\n",
       "      <td>not available in demo dataset</td>\n",
       "      <td>not available in demo dataset</td>\n",
       "      <td>dodo.net.au</td>\n",
       "    </tr>\n",
       "    <tr>\n",
       "      <th>2</th>\n",
       "      <td>Europe</td>\n",
       "      <td>Southern Europe</td>\n",
       "      <td>Community of Madrid</td>\n",
       "      <td>Spain</td>\n",
       "      <td>Madrid</td>\n",
       "      <td>(not set)</td>\n",
       "      <td>not available in demo dataset</td>\n",
       "      <td>not available in demo dataset</td>\n",
       "      <td>not available in demo dataset</td>\n",
       "      <td>unknown.unknown</td>\n",
       "    </tr>\n",
       "    <tr>\n",
       "      <th>3</th>\n",
       "      <td>Asia</td>\n",
       "      <td>Southeast Asia</td>\n",
       "      <td>not available in demo dataset</td>\n",
       "      <td>Indonesia</td>\n",
       "      <td>not available in demo dataset</td>\n",
       "      <td>not available in demo dataset</td>\n",
       "      <td>not available in demo dataset</td>\n",
       "      <td>not available in demo dataset</td>\n",
       "      <td>not available in demo dataset</td>\n",
       "      <td>unknown.unknown</td>\n",
       "    </tr>\n",
       "    <tr>\n",
       "      <th>4</th>\n",
       "      <td>Europe</td>\n",
       "      <td>Northern Europe</td>\n",
       "      <td>not available in demo dataset</td>\n",
       "      <td>United Kingdom</td>\n",
       "      <td>not available in demo dataset</td>\n",
       "      <td>not available in demo dataset</td>\n",
       "      <td>not available in demo dataset</td>\n",
       "      <td>not available in demo dataset</td>\n",
       "      <td>not available in demo dataset</td>\n",
       "      <td>unknown.unknown</td>\n",
       "    </tr>\n",
       "  </tbody>\n",
       "</table>\n",
       "</div>"
      ],
      "text/plain": [
       "  continent     subContinent                         region         country  \\\n",
       "0      Asia     Western Asia                          Izmir          Turkey   \n",
       "1   Oceania      Australasia  not available in demo dataset       Australia   \n",
       "2    Europe  Southern Europe            Community of Madrid           Spain   \n",
       "3      Asia   Southeast Asia  not available in demo dataset       Indonesia   \n",
       "4    Europe  Northern Europe  not available in demo dataset  United Kingdom   \n",
       "\n",
       "                            city                          metro  \\\n",
       "0                          Izmir                      (not set)   \n",
       "1  not available in demo dataset  not available in demo dataset   \n",
       "2                         Madrid                      (not set)   \n",
       "3  not available in demo dataset  not available in demo dataset   \n",
       "4  not available in demo dataset  not available in demo dataset   \n",
       "\n",
       "                 networkLocation                       latitude  \\\n",
       "0  not available in demo dataset  not available in demo dataset   \n",
       "1  not available in demo dataset  not available in demo dataset   \n",
       "2  not available in demo dataset  not available in demo dataset   \n",
       "3  not available in demo dataset  not available in demo dataset   \n",
       "4  not available in demo dataset  not available in demo dataset   \n",
       "\n",
       "                       longitude    networkDomain  \n",
       "0  not available in demo dataset     ttnet.com.tr  \n",
       "1  not available in demo dataset      dodo.net.au  \n",
       "2  not available in demo dataset  unknown.unknown  \n",
       "3  not available in demo dataset  unknown.unknown  \n",
       "4  not available in demo dataset  unknown.unknown  "
      ]
     },
     "execution_count": 5,
     "metadata": {},
     "output_type": "execute_result"
    }
   ],
   "source": [
    "geoNetwork_df=pd.DataFrame(train['geoNetwork'].apply(json.loads).tolist())[['continent','subContinent','region','country','city','metro','networkLocation','latitude','longitude','networkDomain']]\n",
    "geoNetwork_df.head()"
   ]
  },
  {
   "cell_type": "markdown",
   "metadata": {},
   "source": [
    "totals data"
   ]
  },
  {
   "cell_type": "code",
   "execution_count": 13,
   "metadata": {},
   "outputs": [
    {
     "data": {
      "text/plain": [
       "0    {\"visits\": \"1\", \"hits\": \"1\", \"pageviews\": \"1\",...\n",
       "1    {\"visits\": \"1\", \"hits\": \"1\", \"pageviews\": \"1\",...\n",
       "2    {\"visits\": \"1\", \"hits\": \"1\", \"pageviews\": \"1\",...\n",
       "3    {\"visits\": \"1\", \"hits\": \"1\", \"pageviews\": \"1\",...\n",
       "4    {\"visits\": \"1\", \"hits\": \"1\", \"pageviews\": \"1\",...\n",
       "Name: totals, dtype: object"
      ]
     },
     "execution_count": 13,
     "metadata": {},
     "output_type": "execute_result"
    }
   ],
   "source": [
    "train['totals'].head()"
   ]
  },
  {
   "cell_type": "markdown",
   "metadata": {},
   "source": [
    "totals json fields"
   ]
  },
  {
   "cell_type": "code",
   "execution_count": 14,
   "metadata": {},
   "outputs": [
    {
     "data": {
      "text/plain": [
       "['newVisits', 'bounces', 'pageviews', 'visits', 'hits', 'transactionRevenue']"
      ]
     },
     "execution_count": 14,
     "metadata": {},
     "output_type": "execute_result"
    }
   ],
   "source": [
    "totals_list=train['totals'].apply(json.loads).tolist()\n",
    "keys=[]\n",
    "for i in totals_list:\n",
    "    for j in list(i.keys()):\n",
    "        if j not in keys:\n",
    "            keys.append(j)\n",
    "            \n",
    "keys"
   ]
  },
  {
   "cell_type": "markdown",
   "metadata": {},
   "source": [
    "totals json array details"
   ]
  },
  {
   "cell_type": "code",
   "execution_count": 15,
   "metadata": {},
   "outputs": [
    {
     "data": {
      "text/plain": [
       "{'bounces': '1',\n",
       " 'hits': '1',\n",
       " 'newVisits': '1',\n",
       " 'pageviews': '1',\n",
       " 'visits': '1'}"
      ]
     },
     "execution_count": 15,
     "metadata": {},
     "output_type": "execute_result"
    }
   ],
   "source": [
    "train['totals'].apply(json.loads)[0]"
   ]
  },
  {
   "cell_type": "markdown",
   "metadata": {},
   "source": [
    "Let's create a new DataFrame for totals fields with data i.e bounces,hits,newVisits,pageviews,visits,transactionRevenue"
   ]
  },
  {
   "cell_type": "code",
   "execution_count": 6,
   "metadata": {},
   "outputs": [
    {
     "data": {
      "text/html": [
       "<div>\n",
       "<style>\n",
       "    .dataframe thead tr:only-child th {\n",
       "        text-align: right;\n",
       "    }\n",
       "\n",
       "    .dataframe thead th {\n",
       "        text-align: left;\n",
       "    }\n",
       "\n",
       "    .dataframe tbody tr th {\n",
       "        vertical-align: top;\n",
       "    }\n",
       "</style>\n",
       "<table border=\"1\" class=\"dataframe\">\n",
       "  <thead>\n",
       "    <tr style=\"text-align: right;\">\n",
       "      <th></th>\n",
       "      <th>bounces</th>\n",
       "      <th>hits</th>\n",
       "      <th>newVisits</th>\n",
       "      <th>pageviews</th>\n",
       "      <th>visits</th>\n",
       "      <th>transactionRevenue</th>\n",
       "    </tr>\n",
       "  </thead>\n",
       "  <tbody>\n",
       "    <tr>\n",
       "      <th>0</th>\n",
       "      <td>1</td>\n",
       "      <td>1</td>\n",
       "      <td>1</td>\n",
       "      <td>1</td>\n",
       "      <td>1</td>\n",
       "      <td>NaN</td>\n",
       "    </tr>\n",
       "    <tr>\n",
       "      <th>1</th>\n",
       "      <td>1</td>\n",
       "      <td>1</td>\n",
       "      <td>1</td>\n",
       "      <td>1</td>\n",
       "      <td>1</td>\n",
       "      <td>NaN</td>\n",
       "    </tr>\n",
       "    <tr>\n",
       "      <th>2</th>\n",
       "      <td>1</td>\n",
       "      <td>1</td>\n",
       "      <td>1</td>\n",
       "      <td>1</td>\n",
       "      <td>1</td>\n",
       "      <td>NaN</td>\n",
       "    </tr>\n",
       "    <tr>\n",
       "      <th>3</th>\n",
       "      <td>1</td>\n",
       "      <td>1</td>\n",
       "      <td>1</td>\n",
       "      <td>1</td>\n",
       "      <td>1</td>\n",
       "      <td>NaN</td>\n",
       "    </tr>\n",
       "    <tr>\n",
       "      <th>4</th>\n",
       "      <td>1</td>\n",
       "      <td>1</td>\n",
       "      <td>NaN</td>\n",
       "      <td>1</td>\n",
       "      <td>1</td>\n",
       "      <td>NaN</td>\n",
       "    </tr>\n",
       "  </tbody>\n",
       "</table>\n",
       "</div>"
      ],
      "text/plain": [
       "  bounces hits newVisits pageviews visits transactionRevenue\n",
       "0       1    1         1         1      1                NaN\n",
       "1       1    1         1         1      1                NaN\n",
       "2       1    1         1         1      1                NaN\n",
       "3       1    1         1         1      1                NaN\n",
       "4       1    1       NaN         1      1                NaN"
      ]
     },
     "execution_count": 6,
     "metadata": {},
     "output_type": "execute_result"
    }
   ],
   "source": [
    "totals_df=pd.DataFrame(train['totals'].apply(json.loads).tolist())[['bounces','hits','newVisits','pageviews','visits','transactionRevenue']]\n",
    "totals_df.head()"
   ]
  },
  {
   "cell_type": "markdown",
   "metadata": {},
   "source": [
    "trafficCource data"
   ]
  },
  {
   "cell_type": "code",
   "execution_count": 17,
   "metadata": {},
   "outputs": [
    {
     "data": {
      "text/plain": [
       "0    {\"campaign\": \"(not set)\", \"source\": \"google\", ...\n",
       "1    {\"campaign\": \"(not set)\", \"source\": \"google\", ...\n",
       "2    {\"campaign\": \"(not set)\", \"source\": \"google\", ...\n",
       "3    {\"campaign\": \"(not set)\", \"source\": \"google\", ...\n",
       "4    {\"campaign\": \"(not set)\", \"source\": \"google\", ...\n",
       "Name: trafficSource, dtype: object"
      ]
     },
     "execution_count": 17,
     "metadata": {},
     "output_type": "execute_result"
    }
   ],
   "source": [
    "train['trafficSource'].head()"
   ]
  },
  {
   "cell_type": "markdown",
   "metadata": {},
   "source": [
    "trafficSource json fields"
   ]
  },
  {
   "cell_type": "code",
   "execution_count": 18,
   "metadata": {},
   "outputs": [
    {
     "data": {
      "text/plain": [
       "['medium',\n",
       " 'adwordsClickInfo',\n",
       " 'keyword',\n",
       " 'campaign',\n",
       " 'source',\n",
       " 'isTrueDirect',\n",
       " 'referralPath',\n",
       " 'adContent',\n",
       " 'campaignCode']"
      ]
     },
     "execution_count": 18,
     "metadata": {},
     "output_type": "execute_result"
    }
   ],
   "source": [
    "trafficSource_list=train['trafficSource'].apply(json.loads).tolist()\n",
    "keys=[]\n",
    "for i in trafficSource_list:\n",
    "    for j in list(i.keys()):\n",
    "        if j not in keys:\n",
    "            keys.append(j)\n",
    "            \n",
    "keys"
   ]
  },
  {
   "cell_type": "markdown",
   "metadata": {},
   "source": [
    "trafficSource json array"
   ]
  },
  {
   "cell_type": "code",
   "execution_count": 19,
   "metadata": {},
   "outputs": [
    {
     "data": {
      "text/plain": [
       "{'adwordsClickInfo': {'criteriaParameters': 'not available in demo dataset'},\n",
       " 'campaign': '(not set)',\n",
       " 'keyword': '(not provided)',\n",
       " 'medium': 'organic',\n",
       " 'source': 'google'}"
      ]
     },
     "execution_count": 19,
     "metadata": {},
     "output_type": "execute_result"
    }
   ],
   "source": [
    "train['trafficSource'].apply(json.loads)[0]"
   ]
  },
  {
   "cell_type": "markdown",
   "metadata": {},
   "source": [
    "Let's flatten the fields first before we flatten the adwordsClickInfo"
   ]
  },
  {
   "cell_type": "code",
   "execution_count": 7,
   "metadata": {},
   "outputs": [
    {
     "data": {
      "text/html": [
       "<div>\n",
       "<style>\n",
       "    .dataframe thead tr:only-child th {\n",
       "        text-align: right;\n",
       "    }\n",
       "\n",
       "    .dataframe thead th {\n",
       "        text-align: left;\n",
       "    }\n",
       "\n",
       "    .dataframe tbody tr th {\n",
       "        vertical-align: top;\n",
       "    }\n",
       "</style>\n",
       "<table border=\"1\" class=\"dataframe\">\n",
       "  <thead>\n",
       "    <tr style=\"text-align: right;\">\n",
       "      <th></th>\n",
       "      <th>adwordsClickInfo</th>\n",
       "      <th>campaign</th>\n",
       "      <th>keyword</th>\n",
       "      <th>medium</th>\n",
       "      <th>source</th>\n",
       "      <th>isTrueDirect</th>\n",
       "      <th>campaignCode</th>\n",
       "      <th>referralPath</th>\n",
       "      <th>adContent</th>\n",
       "    </tr>\n",
       "  </thead>\n",
       "  <tbody>\n",
       "    <tr>\n",
       "      <th>0</th>\n",
       "      <td>{'criteriaParameters': 'not available in demo ...</td>\n",
       "      <td>(not set)</td>\n",
       "      <td>(not provided)</td>\n",
       "      <td>organic</td>\n",
       "      <td>google</td>\n",
       "      <td>NaN</td>\n",
       "      <td>NaN</td>\n",
       "      <td>NaN</td>\n",
       "      <td>NaN</td>\n",
       "    </tr>\n",
       "    <tr>\n",
       "      <th>1</th>\n",
       "      <td>{'criteriaParameters': 'not available in demo ...</td>\n",
       "      <td>(not set)</td>\n",
       "      <td>(not provided)</td>\n",
       "      <td>organic</td>\n",
       "      <td>google</td>\n",
       "      <td>NaN</td>\n",
       "      <td>NaN</td>\n",
       "      <td>NaN</td>\n",
       "      <td>NaN</td>\n",
       "    </tr>\n",
       "    <tr>\n",
       "      <th>2</th>\n",
       "      <td>{'criteriaParameters': 'not available in demo ...</td>\n",
       "      <td>(not set)</td>\n",
       "      <td>(not provided)</td>\n",
       "      <td>organic</td>\n",
       "      <td>google</td>\n",
       "      <td>NaN</td>\n",
       "      <td>NaN</td>\n",
       "      <td>NaN</td>\n",
       "      <td>NaN</td>\n",
       "    </tr>\n",
       "    <tr>\n",
       "      <th>3</th>\n",
       "      <td>{'criteriaParameters': 'not available in demo ...</td>\n",
       "      <td>(not set)</td>\n",
       "      <td>google + online</td>\n",
       "      <td>organic</td>\n",
       "      <td>google</td>\n",
       "      <td>NaN</td>\n",
       "      <td>NaN</td>\n",
       "      <td>NaN</td>\n",
       "      <td>NaN</td>\n",
       "    </tr>\n",
       "    <tr>\n",
       "      <th>4</th>\n",
       "      <td>{'criteriaParameters': 'not available in demo ...</td>\n",
       "      <td>(not set)</td>\n",
       "      <td>(not provided)</td>\n",
       "      <td>organic</td>\n",
       "      <td>google</td>\n",
       "      <td>True</td>\n",
       "      <td>NaN</td>\n",
       "      <td>NaN</td>\n",
       "      <td>NaN</td>\n",
       "    </tr>\n",
       "  </tbody>\n",
       "</table>\n",
       "</div>"
      ],
      "text/plain": [
       "                                    adwordsClickInfo   campaign  \\\n",
       "0  {'criteriaParameters': 'not available in demo ...  (not set)   \n",
       "1  {'criteriaParameters': 'not available in demo ...  (not set)   \n",
       "2  {'criteriaParameters': 'not available in demo ...  (not set)   \n",
       "3  {'criteriaParameters': 'not available in demo ...  (not set)   \n",
       "4  {'criteriaParameters': 'not available in demo ...  (not set)   \n",
       "\n",
       "           keyword   medium  source isTrueDirect campaignCode referralPath  \\\n",
       "0   (not provided)  organic  google          NaN          NaN          NaN   \n",
       "1   (not provided)  organic  google          NaN          NaN          NaN   \n",
       "2   (not provided)  organic  google          NaN          NaN          NaN   \n",
       "3  google + online  organic  google          NaN          NaN          NaN   \n",
       "4   (not provided)  organic  google         True          NaN          NaN   \n",
       "\n",
       "  adContent  \n",
       "0       NaN  \n",
       "1       NaN  \n",
       "2       NaN  \n",
       "3       NaN  \n",
       "4       NaN  "
      ]
     },
     "execution_count": 7,
     "metadata": {},
     "output_type": "execute_result"
    }
   ],
   "source": [
    "trafficSource_df=pd.DataFrame(train['trafficSource'].apply(json.loads).tolist())[['adwordsClickInfo','campaign','keyword','medium','source','isTrueDirect','campaignCode','referralPath','adContent']]\n",
    "trafficSource_df.head()"
   ]
  },
  {
   "cell_type": "markdown",
   "metadata": {},
   "source": [
    "adwordsClickInfo json fields"
   ]
  },
  {
   "cell_type": "code",
   "execution_count": 21,
   "metadata": {},
   "outputs": [
    {
     "data": {
      "text/plain": [
       "['criteriaParameters',\n",
       " 'page',\n",
       " 'gclId',\n",
       " 'isVideoAd',\n",
       " 'slot',\n",
       " 'adNetworkType',\n",
       " 'targetingCriteria']"
      ]
     },
     "execution_count": 21,
     "metadata": {},
     "output_type": "execute_result"
    }
   ],
   "source": [
    "adwordsClickInfo_list=trafficSource_df['adwordsClickInfo'].apply(json.dumps).apply(json.loads).tolist()\n",
    "keys=[]\n",
    "for i in adwordsClickInfo_list:\n",
    "    for j in i.keys():\n",
    "        if j not in keys:\n",
    "            keys.append(j)\n",
    "            \n",
    "keys"
   ]
  },
  {
   "cell_type": "markdown",
   "metadata": {},
   "source": [
    "adwordsClickInfo json array data"
   ]
  },
  {
   "cell_type": "code",
   "execution_count": 22,
   "metadata": {},
   "outputs": [
    {
     "data": {
      "text/plain": [
       "{'criteriaParameters': 'not available in demo dataset'}"
      ]
     },
     "execution_count": 22,
     "metadata": {},
     "output_type": "execute_result"
    }
   ],
   "source": [
    "trafficSource_df['adwordsClickInfo'].apply(json.dumps).apply(json.loads)[0]"
   ]
  },
  {
   "cell_type": "markdown",
   "metadata": {},
   "source": [
    "Let's flatten the adwordsClickInfo fields "
   ]
  },
  {
   "cell_type": "code",
   "execution_count": 9,
   "metadata": {},
   "outputs": [
    {
     "data": {
      "text/html": [
       "<div>\n",
       "<style>\n",
       "    .dataframe thead tr:only-child th {\n",
       "        text-align: right;\n",
       "    }\n",
       "\n",
       "    .dataframe thead th {\n",
       "        text-align: left;\n",
       "    }\n",
       "\n",
       "    .dataframe tbody tr th {\n",
       "        vertical-align: top;\n",
       "    }\n",
       "</style>\n",
       "<table border=\"1\" class=\"dataframe\">\n",
       "  <thead>\n",
       "    <tr style=\"text-align: right;\">\n",
       "      <th></th>\n",
       "      <th>criteriaParameters</th>\n",
       "      <th>page</th>\n",
       "      <th>isVideoAd</th>\n",
       "      <th>gclId</th>\n",
       "      <th>adNetworkType</th>\n",
       "      <th>slot</th>\n",
       "      <th>targetingCriteria</th>\n",
       "    </tr>\n",
       "  </thead>\n",
       "  <tbody>\n",
       "    <tr>\n",
       "      <th>0</th>\n",
       "      <td>not available in demo dataset</td>\n",
       "      <td>NaN</td>\n",
       "      <td>NaN</td>\n",
       "      <td>NaN</td>\n",
       "      <td>NaN</td>\n",
       "      <td>NaN</td>\n",
       "      <td>NaN</td>\n",
       "    </tr>\n",
       "    <tr>\n",
       "      <th>1</th>\n",
       "      <td>not available in demo dataset</td>\n",
       "      <td>NaN</td>\n",
       "      <td>NaN</td>\n",
       "      <td>NaN</td>\n",
       "      <td>NaN</td>\n",
       "      <td>NaN</td>\n",
       "      <td>NaN</td>\n",
       "    </tr>\n",
       "    <tr>\n",
       "      <th>2</th>\n",
       "      <td>not available in demo dataset</td>\n",
       "      <td>NaN</td>\n",
       "      <td>NaN</td>\n",
       "      <td>NaN</td>\n",
       "      <td>NaN</td>\n",
       "      <td>NaN</td>\n",
       "      <td>NaN</td>\n",
       "    </tr>\n",
       "    <tr>\n",
       "      <th>3</th>\n",
       "      <td>not available in demo dataset</td>\n",
       "      <td>NaN</td>\n",
       "      <td>NaN</td>\n",
       "      <td>NaN</td>\n",
       "      <td>NaN</td>\n",
       "      <td>NaN</td>\n",
       "      <td>NaN</td>\n",
       "    </tr>\n",
       "    <tr>\n",
       "      <th>4</th>\n",
       "      <td>not available in demo dataset</td>\n",
       "      <td>NaN</td>\n",
       "      <td>NaN</td>\n",
       "      <td>NaN</td>\n",
       "      <td>NaN</td>\n",
       "      <td>NaN</td>\n",
       "      <td>NaN</td>\n",
       "    </tr>\n",
       "  </tbody>\n",
       "</table>\n",
       "</div>"
      ],
      "text/plain": [
       "              criteriaParameters page isVideoAd gclId adNetworkType slot  \\\n",
       "0  not available in demo dataset  NaN       NaN   NaN           NaN  NaN   \n",
       "1  not available in demo dataset  NaN       NaN   NaN           NaN  NaN   \n",
       "2  not available in demo dataset  NaN       NaN   NaN           NaN  NaN   \n",
       "3  not available in demo dataset  NaN       NaN   NaN           NaN  NaN   \n",
       "4  not available in demo dataset  NaN       NaN   NaN           NaN  NaN   \n",
       "\n",
       "  targetingCriteria  \n",
       "0               NaN  \n",
       "1               NaN  \n",
       "2               NaN  \n",
       "3               NaN  \n",
       "4               NaN  "
      ]
     },
     "execution_count": 9,
     "metadata": {},
     "output_type": "execute_result"
    }
   ],
   "source": [
    "adwordsClickInfo_df=pd.DataFrame(trafficSource_df['adwordsClickInfo'].apply(json.dumps).apply(json.loads).tolist())[['criteriaParameters','page','isVideoAd','gclId','adNetworkType','slot','targetingCriteria']]\n",
    "adwordsClickInfo_df.head()"
   ]
  },
  {
   "cell_type": "markdown",
   "metadata": {
    "collapsed": true
   },
   "source": [
    "# Joining DataFrames"
   ]
  },
  {
   "cell_type": "markdown",
   "metadata": {},
   "source": [
    "Combine the DataFrames"
   ]
  },
  {
   "cell_type": "code",
   "execution_count": 10,
   "metadata": {
    "collapsed": true
   },
   "outputs": [],
   "source": [
    "df=pd.concat([train[['channelGrouping', 'date', 'device', 'fullVisitorId', 'geoNetwork','sessionId', 'socialEngagementType', 'totals', 'trafficSource',\n",
    "       'visitId', 'visitNumber', 'visitStartTime']], device_df, geoNetwork_df, totals_df, trafficSource_df,adwordsClickInfo_df], axis=1)"
   ]
  },
  {
   "cell_type": "code",
   "execution_count": 14,
   "metadata": {},
   "outputs": [
    {
     "data": {
      "text/html": [
       "<div>\n",
       "<style>\n",
       "    .dataframe thead tr:only-child th {\n",
       "        text-align: right;\n",
       "    }\n",
       "\n",
       "    .dataframe thead th {\n",
       "        text-align: left;\n",
       "    }\n",
       "\n",
       "    .dataframe tbody tr th {\n",
       "        vertical-align: top;\n",
       "    }\n",
       "</style>\n",
       "<table border=\"1\" class=\"dataframe\">\n",
       "  <thead>\n",
       "    <tr style=\"text-align: right;\">\n",
       "      <th></th>\n",
       "      <th>channelGrouping</th>\n",
       "      <th>date</th>\n",
       "      <th>device</th>\n",
       "      <th>fullVisitorId</th>\n",
       "      <th>geoNetwork</th>\n",
       "      <th>sessionId</th>\n",
       "      <th>socialEngagementType</th>\n",
       "      <th>totals</th>\n",
       "      <th>trafficSource</th>\n",
       "      <th>visitId</th>\n",
       "      <th>...</th>\n",
       "      <th>campaignCode</th>\n",
       "      <th>referralPath</th>\n",
       "      <th>adContent</th>\n",
       "      <th>criteriaParameters</th>\n",
       "      <th>page</th>\n",
       "      <th>isVideoAd</th>\n",
       "      <th>gclId</th>\n",
       "      <th>adNetworkType</th>\n",
       "      <th>slot</th>\n",
       "      <th>targetingCriteria</th>\n",
       "    </tr>\n",
       "  </thead>\n",
       "  <tbody>\n",
       "    <tr>\n",
       "      <th>0</th>\n",
       "      <td>Organic Search</td>\n",
       "      <td>20160902</td>\n",
       "      <td>{\"browser\": \"Chrome\", \"browserVersion\": \"not a...</td>\n",
       "      <td>1131660440785968503</td>\n",
       "      <td>{\"continent\": \"Asia\", \"subContinent\": \"Western...</td>\n",
       "      <td>1131660440785968503_1472830385</td>\n",
       "      <td>Not Socially Engaged</td>\n",
       "      <td>{\"visits\": \"1\", \"hits\": \"1\", \"pageviews\": \"1\",...</td>\n",
       "      <td>{\"campaign\": \"(not set)\", \"source\": \"google\", ...</td>\n",
       "      <td>1472830385</td>\n",
       "      <td>...</td>\n",
       "      <td>NaN</td>\n",
       "      <td>NaN</td>\n",
       "      <td>NaN</td>\n",
       "      <td>not available in demo dataset</td>\n",
       "      <td>NaN</td>\n",
       "      <td>NaN</td>\n",
       "      <td>NaN</td>\n",
       "      <td>NaN</td>\n",
       "      <td>NaN</td>\n",
       "      <td>NaN</td>\n",
       "    </tr>\n",
       "    <tr>\n",
       "      <th>1</th>\n",
       "      <td>Organic Search</td>\n",
       "      <td>20160902</td>\n",
       "      <td>{\"browser\": \"Firefox\", \"browserVersion\": \"not ...</td>\n",
       "      <td>377306020877927890</td>\n",
       "      <td>{\"continent\": \"Oceania\", \"subContinent\": \"Aust...</td>\n",
       "      <td>377306020877927890_1472880147</td>\n",
       "      <td>Not Socially Engaged</td>\n",
       "      <td>{\"visits\": \"1\", \"hits\": \"1\", \"pageviews\": \"1\",...</td>\n",
       "      <td>{\"campaign\": \"(not set)\", \"source\": \"google\", ...</td>\n",
       "      <td>1472880147</td>\n",
       "      <td>...</td>\n",
       "      <td>NaN</td>\n",
       "      <td>NaN</td>\n",
       "      <td>NaN</td>\n",
       "      <td>not available in demo dataset</td>\n",
       "      <td>NaN</td>\n",
       "      <td>NaN</td>\n",
       "      <td>NaN</td>\n",
       "      <td>NaN</td>\n",
       "      <td>NaN</td>\n",
       "      <td>NaN</td>\n",
       "    </tr>\n",
       "    <tr>\n",
       "      <th>2</th>\n",
       "      <td>Organic Search</td>\n",
       "      <td>20160902</td>\n",
       "      <td>{\"browser\": \"Chrome\", \"browserVersion\": \"not a...</td>\n",
       "      <td>3895546263509774583</td>\n",
       "      <td>{\"continent\": \"Europe\", \"subContinent\": \"South...</td>\n",
       "      <td>3895546263509774583_1472865386</td>\n",
       "      <td>Not Socially Engaged</td>\n",
       "      <td>{\"visits\": \"1\", \"hits\": \"1\", \"pageviews\": \"1\",...</td>\n",
       "      <td>{\"campaign\": \"(not set)\", \"source\": \"google\", ...</td>\n",
       "      <td>1472865386</td>\n",
       "      <td>...</td>\n",
       "      <td>NaN</td>\n",
       "      <td>NaN</td>\n",
       "      <td>NaN</td>\n",
       "      <td>not available in demo dataset</td>\n",
       "      <td>NaN</td>\n",
       "      <td>NaN</td>\n",
       "      <td>NaN</td>\n",
       "      <td>NaN</td>\n",
       "      <td>NaN</td>\n",
       "      <td>NaN</td>\n",
       "    </tr>\n",
       "    <tr>\n",
       "      <th>3</th>\n",
       "      <td>Organic Search</td>\n",
       "      <td>20160902</td>\n",
       "      <td>{\"browser\": \"UC Browser\", \"browserVersion\": \"n...</td>\n",
       "      <td>4763447161404445595</td>\n",
       "      <td>{\"continent\": \"Asia\", \"subContinent\": \"Southea...</td>\n",
       "      <td>4763447161404445595_1472881213</td>\n",
       "      <td>Not Socially Engaged</td>\n",
       "      <td>{\"visits\": \"1\", \"hits\": \"1\", \"pageviews\": \"1\",...</td>\n",
       "      <td>{\"campaign\": \"(not set)\", \"source\": \"google\", ...</td>\n",
       "      <td>1472881213</td>\n",
       "      <td>...</td>\n",
       "      <td>NaN</td>\n",
       "      <td>NaN</td>\n",
       "      <td>NaN</td>\n",
       "      <td>not available in demo dataset</td>\n",
       "      <td>NaN</td>\n",
       "      <td>NaN</td>\n",
       "      <td>NaN</td>\n",
       "      <td>NaN</td>\n",
       "      <td>NaN</td>\n",
       "      <td>NaN</td>\n",
       "    </tr>\n",
       "    <tr>\n",
       "      <th>4</th>\n",
       "      <td>Organic Search</td>\n",
       "      <td>20160902</td>\n",
       "      <td>{\"browser\": \"Chrome\", \"browserVersion\": \"not a...</td>\n",
       "      <td>27294437909732085</td>\n",
       "      <td>{\"continent\": \"Europe\", \"subContinent\": \"North...</td>\n",
       "      <td>27294437909732085_1472822600</td>\n",
       "      <td>Not Socially Engaged</td>\n",
       "      <td>{\"visits\": \"1\", \"hits\": \"1\", \"pageviews\": \"1\",...</td>\n",
       "      <td>{\"campaign\": \"(not set)\", \"source\": \"google\", ...</td>\n",
       "      <td>1472822600</td>\n",
       "      <td>...</td>\n",
       "      <td>NaN</td>\n",
       "      <td>NaN</td>\n",
       "      <td>NaN</td>\n",
       "      <td>not available in demo dataset</td>\n",
       "      <td>NaN</td>\n",
       "      <td>NaN</td>\n",
       "      <td>NaN</td>\n",
       "      <td>NaN</td>\n",
       "      <td>NaN</td>\n",
       "      <td>NaN</td>\n",
       "    </tr>\n",
       "  </tbody>\n",
       "</table>\n",
       "<p>5 rows × 53 columns</p>\n",
       "</div>"
      ],
      "text/plain": [
       "  channelGrouping      date  \\\n",
       "0  Organic Search  20160902   \n",
       "1  Organic Search  20160902   \n",
       "2  Organic Search  20160902   \n",
       "3  Organic Search  20160902   \n",
       "4  Organic Search  20160902   \n",
       "\n",
       "                                              device        fullVisitorId  \\\n",
       "0  {\"browser\": \"Chrome\", \"browserVersion\": \"not a...  1131660440785968503   \n",
       "1  {\"browser\": \"Firefox\", \"browserVersion\": \"not ...   377306020877927890   \n",
       "2  {\"browser\": \"Chrome\", \"browserVersion\": \"not a...  3895546263509774583   \n",
       "3  {\"browser\": \"UC Browser\", \"browserVersion\": \"n...  4763447161404445595   \n",
       "4  {\"browser\": \"Chrome\", \"browserVersion\": \"not a...    27294437909732085   \n",
       "\n",
       "                                          geoNetwork  \\\n",
       "0  {\"continent\": \"Asia\", \"subContinent\": \"Western...   \n",
       "1  {\"continent\": \"Oceania\", \"subContinent\": \"Aust...   \n",
       "2  {\"continent\": \"Europe\", \"subContinent\": \"South...   \n",
       "3  {\"continent\": \"Asia\", \"subContinent\": \"Southea...   \n",
       "4  {\"continent\": \"Europe\", \"subContinent\": \"North...   \n",
       "\n",
       "                        sessionId  socialEngagementType  \\\n",
       "0  1131660440785968503_1472830385  Not Socially Engaged   \n",
       "1   377306020877927890_1472880147  Not Socially Engaged   \n",
       "2  3895546263509774583_1472865386  Not Socially Engaged   \n",
       "3  4763447161404445595_1472881213  Not Socially Engaged   \n",
       "4    27294437909732085_1472822600  Not Socially Engaged   \n",
       "\n",
       "                                              totals  \\\n",
       "0  {\"visits\": \"1\", \"hits\": \"1\", \"pageviews\": \"1\",...   \n",
       "1  {\"visits\": \"1\", \"hits\": \"1\", \"pageviews\": \"1\",...   \n",
       "2  {\"visits\": \"1\", \"hits\": \"1\", \"pageviews\": \"1\",...   \n",
       "3  {\"visits\": \"1\", \"hits\": \"1\", \"pageviews\": \"1\",...   \n",
       "4  {\"visits\": \"1\", \"hits\": \"1\", \"pageviews\": \"1\",...   \n",
       "\n",
       "                                       trafficSource     visitId  \\\n",
       "0  {\"campaign\": \"(not set)\", \"source\": \"google\", ...  1472830385   \n",
       "1  {\"campaign\": \"(not set)\", \"source\": \"google\", ...  1472880147   \n",
       "2  {\"campaign\": \"(not set)\", \"source\": \"google\", ...  1472865386   \n",
       "3  {\"campaign\": \"(not set)\", \"source\": \"google\", ...  1472881213   \n",
       "4  {\"campaign\": \"(not set)\", \"source\": \"google\", ...  1472822600   \n",
       "\n",
       "         ...         campaignCode  referralPath adContent  \\\n",
       "0        ...                  NaN           NaN       NaN   \n",
       "1        ...                  NaN           NaN       NaN   \n",
       "2        ...                  NaN           NaN       NaN   \n",
       "3        ...                  NaN           NaN       NaN   \n",
       "4        ...                  NaN           NaN       NaN   \n",
       "\n",
       "              criteriaParameters page isVideoAd gclId adNetworkType slot  \\\n",
       "0  not available in demo dataset  NaN       NaN   NaN           NaN  NaN   \n",
       "1  not available in demo dataset  NaN       NaN   NaN           NaN  NaN   \n",
       "2  not available in demo dataset  NaN       NaN   NaN           NaN  NaN   \n",
       "3  not available in demo dataset  NaN       NaN   NaN           NaN  NaN   \n",
       "4  not available in demo dataset  NaN       NaN   NaN           NaN  NaN   \n",
       "\n",
       "  targetingCriteria  \n",
       "0               NaN  \n",
       "1               NaN  \n",
       "2               NaN  \n",
       "3               NaN  \n",
       "4               NaN  \n",
       "\n",
       "[5 rows x 53 columns]"
      ]
     },
     "execution_count": 14,
     "metadata": {},
     "output_type": "execute_result"
    }
   ],
   "source": [
    "df.head()"
   ]
  },
  {
   "cell_type": "code",
   "execution_count": 11,
   "metadata": {},
   "outputs": [
    {
     "data": {
      "text/plain": [
       "Index(['channelGrouping', 'date', 'device', 'fullVisitorId', 'geoNetwork',\n",
       "       'sessionId', 'socialEngagementType', 'totals', 'trafficSource',\n",
       "       'visitId', 'visitNumber', 'visitStartTime', 'browser', 'deviceCategory',\n",
       "       'operatingSystem', 'language', 'browserVersion', 'browserSize',\n",
       "       'mobileDeviceMarketingName', 'mobileDeviceModel', 'screenResolution',\n",
       "       'continent', 'subContinent', 'region', 'country', 'city', 'metro',\n",
       "       'networkLocation', 'latitude', 'longitude', 'networkDomain', 'bounces',\n",
       "       'hits', 'newVisits', 'pageviews', 'visits', 'transactionRevenue',\n",
       "       'adwordsClickInfo', 'campaign', 'keyword', 'medium', 'source',\n",
       "       'isTrueDirect', 'campaignCode', 'referralPath', 'adContent',\n",
       "       'criteriaParameters', 'page', 'isVideoAd', 'gclId', 'adNetworkType',\n",
       "       'slot', 'targetingCriteria'],\n",
       "      dtype='object')"
      ]
     },
     "execution_count": 11,
     "metadata": {},
     "output_type": "execute_result"
    }
   ],
   "source": [
    "df.columns"
   ]
  },
  {
   "cell_type": "code",
   "execution_count": null,
   "metadata": {
    "collapsed": true
   },
   "outputs": [],
   "source": [
    "df.shape"
   ]
  },
  {
   "cell_type": "markdown",
   "metadata": {},
   "source": [
    "# Working with Date and Time"
   ]
  },
  {
   "cell_type": "markdown",
   "metadata": {},
   "source": [
    "Extract Date and Time"
   ]
  },
  {
   "cell_type": "code",
   "execution_count": 11,
   "metadata": {},
   "outputs": [
    {
     "data": {
      "text/html": [
       "<div>\n",
       "<style>\n",
       "    .dataframe thead tr:only-child th {\n",
       "        text-align: right;\n",
       "    }\n",
       "\n",
       "    .dataframe thead th {\n",
       "        text-align: left;\n",
       "    }\n",
       "\n",
       "    .dataframe tbody tr th {\n",
       "        vertical-align: top;\n",
       "    }\n",
       "</style>\n",
       "<table border=\"1\" class=\"dataframe\">\n",
       "  <thead>\n",
       "    <tr style=\"text-align: right;\">\n",
       "      <th></th>\n",
       "      <th>channelGrouping</th>\n",
       "      <th>date</th>\n",
       "      <th>device</th>\n",
       "      <th>fullVisitorId</th>\n",
       "      <th>geoNetwork</th>\n",
       "      <th>sessionId</th>\n",
       "      <th>socialEngagementType</th>\n",
       "      <th>totals</th>\n",
       "      <th>trafficSource</th>\n",
       "      <th>visitId</th>\n",
       "      <th>...</th>\n",
       "      <th>campaignCode</th>\n",
       "      <th>referralPath</th>\n",
       "      <th>adContent</th>\n",
       "      <th>criteriaParameters</th>\n",
       "      <th>page</th>\n",
       "      <th>isVideoAd</th>\n",
       "      <th>gclId</th>\n",
       "      <th>adNetworkType</th>\n",
       "      <th>slot</th>\n",
       "      <th>targetingCriteria</th>\n",
       "    </tr>\n",
       "  </thead>\n",
       "  <tbody>\n",
       "    <tr>\n",
       "      <th>0</th>\n",
       "      <td>Organic Search</td>\n",
       "      <td>2016-09-02</td>\n",
       "      <td>{\"browser\": \"Chrome\", \"browserVersion\": \"not a...</td>\n",
       "      <td>1131660440785968503</td>\n",
       "      <td>{\"continent\": \"Asia\", \"subContinent\": \"Western...</td>\n",
       "      <td>1131660440785968503_1472830385</td>\n",
       "      <td>Not Socially Engaged</td>\n",
       "      <td>{\"visits\": \"1\", \"hits\": \"1\", \"pageviews\": \"1\",...</td>\n",
       "      <td>{\"campaign\": \"(not set)\", \"source\": \"google\", ...</td>\n",
       "      <td>1472830385</td>\n",
       "      <td>...</td>\n",
       "      <td>NaN</td>\n",
       "      <td>NaN</td>\n",
       "      <td>NaN</td>\n",
       "      <td>not available in demo dataset</td>\n",
       "      <td>NaN</td>\n",
       "      <td>NaN</td>\n",
       "      <td>NaN</td>\n",
       "      <td>NaN</td>\n",
       "      <td>NaN</td>\n",
       "      <td>NaN</td>\n",
       "    </tr>\n",
       "    <tr>\n",
       "      <th>1</th>\n",
       "      <td>Organic Search</td>\n",
       "      <td>2016-09-02</td>\n",
       "      <td>{\"browser\": \"Firefox\", \"browserVersion\": \"not ...</td>\n",
       "      <td>377306020877927890</td>\n",
       "      <td>{\"continent\": \"Oceania\", \"subContinent\": \"Aust...</td>\n",
       "      <td>377306020877927890_1472880147</td>\n",
       "      <td>Not Socially Engaged</td>\n",
       "      <td>{\"visits\": \"1\", \"hits\": \"1\", \"pageviews\": \"1\",...</td>\n",
       "      <td>{\"campaign\": \"(not set)\", \"source\": \"google\", ...</td>\n",
       "      <td>1472880147</td>\n",
       "      <td>...</td>\n",
       "      <td>NaN</td>\n",
       "      <td>NaN</td>\n",
       "      <td>NaN</td>\n",
       "      <td>not available in demo dataset</td>\n",
       "      <td>NaN</td>\n",
       "      <td>NaN</td>\n",
       "      <td>NaN</td>\n",
       "      <td>NaN</td>\n",
       "      <td>NaN</td>\n",
       "      <td>NaN</td>\n",
       "    </tr>\n",
       "    <tr>\n",
       "      <th>2</th>\n",
       "      <td>Organic Search</td>\n",
       "      <td>2016-09-02</td>\n",
       "      <td>{\"browser\": \"Chrome\", \"browserVersion\": \"not a...</td>\n",
       "      <td>3895546263509774583</td>\n",
       "      <td>{\"continent\": \"Europe\", \"subContinent\": \"South...</td>\n",
       "      <td>3895546263509774583_1472865386</td>\n",
       "      <td>Not Socially Engaged</td>\n",
       "      <td>{\"visits\": \"1\", \"hits\": \"1\", \"pageviews\": \"1\",...</td>\n",
       "      <td>{\"campaign\": \"(not set)\", \"source\": \"google\", ...</td>\n",
       "      <td>1472865386</td>\n",
       "      <td>...</td>\n",
       "      <td>NaN</td>\n",
       "      <td>NaN</td>\n",
       "      <td>NaN</td>\n",
       "      <td>not available in demo dataset</td>\n",
       "      <td>NaN</td>\n",
       "      <td>NaN</td>\n",
       "      <td>NaN</td>\n",
       "      <td>NaN</td>\n",
       "      <td>NaN</td>\n",
       "      <td>NaN</td>\n",
       "    </tr>\n",
       "    <tr>\n",
       "      <th>3</th>\n",
       "      <td>Organic Search</td>\n",
       "      <td>2016-09-02</td>\n",
       "      <td>{\"browser\": \"UC Browser\", \"browserVersion\": \"n...</td>\n",
       "      <td>4763447161404445595</td>\n",
       "      <td>{\"continent\": \"Asia\", \"subContinent\": \"Southea...</td>\n",
       "      <td>4763447161404445595_1472881213</td>\n",
       "      <td>Not Socially Engaged</td>\n",
       "      <td>{\"visits\": \"1\", \"hits\": \"1\", \"pageviews\": \"1\",...</td>\n",
       "      <td>{\"campaign\": \"(not set)\", \"source\": \"google\", ...</td>\n",
       "      <td>1472881213</td>\n",
       "      <td>...</td>\n",
       "      <td>NaN</td>\n",
       "      <td>NaN</td>\n",
       "      <td>NaN</td>\n",
       "      <td>not available in demo dataset</td>\n",
       "      <td>NaN</td>\n",
       "      <td>NaN</td>\n",
       "      <td>NaN</td>\n",
       "      <td>NaN</td>\n",
       "      <td>NaN</td>\n",
       "      <td>NaN</td>\n",
       "    </tr>\n",
       "    <tr>\n",
       "      <th>4</th>\n",
       "      <td>Organic Search</td>\n",
       "      <td>2016-09-02</td>\n",
       "      <td>{\"browser\": \"Chrome\", \"browserVersion\": \"not a...</td>\n",
       "      <td>27294437909732085</td>\n",
       "      <td>{\"continent\": \"Europe\", \"subContinent\": \"North...</td>\n",
       "      <td>27294437909732085_1472822600</td>\n",
       "      <td>Not Socially Engaged</td>\n",
       "      <td>{\"visits\": \"1\", \"hits\": \"1\", \"pageviews\": \"1\",...</td>\n",
       "      <td>{\"campaign\": \"(not set)\", \"source\": \"google\", ...</td>\n",
       "      <td>1472822600</td>\n",
       "      <td>...</td>\n",
       "      <td>NaN</td>\n",
       "      <td>NaN</td>\n",
       "      <td>NaN</td>\n",
       "      <td>not available in demo dataset</td>\n",
       "      <td>NaN</td>\n",
       "      <td>NaN</td>\n",
       "      <td>NaN</td>\n",
       "      <td>NaN</td>\n",
       "      <td>NaN</td>\n",
       "      <td>NaN</td>\n",
       "    </tr>\n",
       "  </tbody>\n",
       "</table>\n",
       "<p>5 rows × 53 columns</p>\n",
       "</div>"
      ],
      "text/plain": [
       "  channelGrouping       date  \\\n",
       "0  Organic Search 2016-09-02   \n",
       "1  Organic Search 2016-09-02   \n",
       "2  Organic Search 2016-09-02   \n",
       "3  Organic Search 2016-09-02   \n",
       "4  Organic Search 2016-09-02   \n",
       "\n",
       "                                              device        fullVisitorId  \\\n",
       "0  {\"browser\": \"Chrome\", \"browserVersion\": \"not a...  1131660440785968503   \n",
       "1  {\"browser\": \"Firefox\", \"browserVersion\": \"not ...   377306020877927890   \n",
       "2  {\"browser\": \"Chrome\", \"browserVersion\": \"not a...  3895546263509774583   \n",
       "3  {\"browser\": \"UC Browser\", \"browserVersion\": \"n...  4763447161404445595   \n",
       "4  {\"browser\": \"Chrome\", \"browserVersion\": \"not a...    27294437909732085   \n",
       "\n",
       "                                          geoNetwork  \\\n",
       "0  {\"continent\": \"Asia\", \"subContinent\": \"Western...   \n",
       "1  {\"continent\": \"Oceania\", \"subContinent\": \"Aust...   \n",
       "2  {\"continent\": \"Europe\", \"subContinent\": \"South...   \n",
       "3  {\"continent\": \"Asia\", \"subContinent\": \"Southea...   \n",
       "4  {\"continent\": \"Europe\", \"subContinent\": \"North...   \n",
       "\n",
       "                        sessionId  socialEngagementType  \\\n",
       "0  1131660440785968503_1472830385  Not Socially Engaged   \n",
       "1   377306020877927890_1472880147  Not Socially Engaged   \n",
       "2  3895546263509774583_1472865386  Not Socially Engaged   \n",
       "3  4763447161404445595_1472881213  Not Socially Engaged   \n",
       "4    27294437909732085_1472822600  Not Socially Engaged   \n",
       "\n",
       "                                              totals  \\\n",
       "0  {\"visits\": \"1\", \"hits\": \"1\", \"pageviews\": \"1\",...   \n",
       "1  {\"visits\": \"1\", \"hits\": \"1\", \"pageviews\": \"1\",...   \n",
       "2  {\"visits\": \"1\", \"hits\": \"1\", \"pageviews\": \"1\",...   \n",
       "3  {\"visits\": \"1\", \"hits\": \"1\", \"pageviews\": \"1\",...   \n",
       "4  {\"visits\": \"1\", \"hits\": \"1\", \"pageviews\": \"1\",...   \n",
       "\n",
       "                                       trafficSource     visitId  \\\n",
       "0  {\"campaign\": \"(not set)\", \"source\": \"google\", ...  1472830385   \n",
       "1  {\"campaign\": \"(not set)\", \"source\": \"google\", ...  1472880147   \n",
       "2  {\"campaign\": \"(not set)\", \"source\": \"google\", ...  1472865386   \n",
       "3  {\"campaign\": \"(not set)\", \"source\": \"google\", ...  1472881213   \n",
       "4  {\"campaign\": \"(not set)\", \"source\": \"google\", ...  1472822600   \n",
       "\n",
       "         ...         campaignCode  referralPath adContent  \\\n",
       "0        ...                  NaN           NaN       NaN   \n",
       "1        ...                  NaN           NaN       NaN   \n",
       "2        ...                  NaN           NaN       NaN   \n",
       "3        ...                  NaN           NaN       NaN   \n",
       "4        ...                  NaN           NaN       NaN   \n",
       "\n",
       "              criteriaParameters page isVideoAd gclId adNetworkType slot  \\\n",
       "0  not available in demo dataset  NaN       NaN   NaN           NaN  NaN   \n",
       "1  not available in demo dataset  NaN       NaN   NaN           NaN  NaN   \n",
       "2  not available in demo dataset  NaN       NaN   NaN           NaN  NaN   \n",
       "3  not available in demo dataset  NaN       NaN   NaN           NaN  NaN   \n",
       "4  not available in demo dataset  NaN       NaN   NaN           NaN  NaN   \n",
       "\n",
       "  targetingCriteria  \n",
       "0               NaN  \n",
       "1               NaN  \n",
       "2               NaN  \n",
       "3               NaN  \n",
       "4               NaN  \n",
       "\n",
       "[5 rows x 53 columns]"
      ]
     },
     "execution_count": 11,
     "metadata": {},
     "output_type": "execute_result"
    }
   ],
   "source": [
    "df['date']=pd.to_datetime(df['date'], format=\"%Y%m%d\")\n",
    "df.head()"
   ]
  },
  {
   "cell_type": "markdown",
   "metadata": {},
   "source": [
    "Extract Time from visitStartTime timestamp"
   ]
  },
  {
   "cell_type": "code",
   "execution_count": 12,
   "metadata": {},
   "outputs": [
    {
     "data": {
      "text/html": [
       "<div>\n",
       "<style>\n",
       "    .dataframe thead tr:only-child th {\n",
       "        text-align: right;\n",
       "    }\n",
       "\n",
       "    .dataframe thead th {\n",
       "        text-align: left;\n",
       "    }\n",
       "\n",
       "    .dataframe tbody tr th {\n",
       "        vertical-align: top;\n",
       "    }\n",
       "</style>\n",
       "<table border=\"1\" class=\"dataframe\">\n",
       "  <thead>\n",
       "    <tr style=\"text-align: right;\">\n",
       "      <th></th>\n",
       "      <th>channelGrouping</th>\n",
       "      <th>date</th>\n",
       "      <th>device</th>\n",
       "      <th>fullVisitorId</th>\n",
       "      <th>geoNetwork</th>\n",
       "      <th>sessionId</th>\n",
       "      <th>socialEngagementType</th>\n",
       "      <th>totals</th>\n",
       "      <th>trafficSource</th>\n",
       "      <th>visitId</th>\n",
       "      <th>...</th>\n",
       "      <th>campaignCode</th>\n",
       "      <th>referralPath</th>\n",
       "      <th>adContent</th>\n",
       "      <th>criteriaParameters</th>\n",
       "      <th>page</th>\n",
       "      <th>isVideoAd</th>\n",
       "      <th>gclId</th>\n",
       "      <th>adNetworkType</th>\n",
       "      <th>slot</th>\n",
       "      <th>targetingCriteria</th>\n",
       "    </tr>\n",
       "  </thead>\n",
       "  <tbody>\n",
       "    <tr>\n",
       "      <th>0</th>\n",
       "      <td>Organic Search</td>\n",
       "      <td>2016-09-02</td>\n",
       "      <td>{\"browser\": \"Chrome\", \"browserVersion\": \"not a...</td>\n",
       "      <td>1131660440785968503</td>\n",
       "      <td>{\"continent\": \"Asia\", \"subContinent\": \"Western...</td>\n",
       "      <td>1131660440785968503_1472830385</td>\n",
       "      <td>Not Socially Engaged</td>\n",
       "      <td>{\"visits\": \"1\", \"hits\": \"1\", \"pageviews\": \"1\",...</td>\n",
       "      <td>{\"campaign\": \"(not set)\", \"source\": \"google\", ...</td>\n",
       "      <td>1472830385</td>\n",
       "      <td>...</td>\n",
       "      <td>NaN</td>\n",
       "      <td>NaN</td>\n",
       "      <td>NaN</td>\n",
       "      <td>not available in demo dataset</td>\n",
       "      <td>NaN</td>\n",
       "      <td>NaN</td>\n",
       "      <td>NaN</td>\n",
       "      <td>NaN</td>\n",
       "      <td>NaN</td>\n",
       "      <td>NaN</td>\n",
       "    </tr>\n",
       "    <tr>\n",
       "      <th>1</th>\n",
       "      <td>Organic Search</td>\n",
       "      <td>2016-09-02</td>\n",
       "      <td>{\"browser\": \"Firefox\", \"browserVersion\": \"not ...</td>\n",
       "      <td>377306020877927890</td>\n",
       "      <td>{\"continent\": \"Oceania\", \"subContinent\": \"Aust...</td>\n",
       "      <td>377306020877927890_1472880147</td>\n",
       "      <td>Not Socially Engaged</td>\n",
       "      <td>{\"visits\": \"1\", \"hits\": \"1\", \"pageviews\": \"1\",...</td>\n",
       "      <td>{\"campaign\": \"(not set)\", \"source\": \"google\", ...</td>\n",
       "      <td>1472880147</td>\n",
       "      <td>...</td>\n",
       "      <td>NaN</td>\n",
       "      <td>NaN</td>\n",
       "      <td>NaN</td>\n",
       "      <td>not available in demo dataset</td>\n",
       "      <td>NaN</td>\n",
       "      <td>NaN</td>\n",
       "      <td>NaN</td>\n",
       "      <td>NaN</td>\n",
       "      <td>NaN</td>\n",
       "      <td>NaN</td>\n",
       "    </tr>\n",
       "    <tr>\n",
       "      <th>2</th>\n",
       "      <td>Organic Search</td>\n",
       "      <td>2016-09-02</td>\n",
       "      <td>{\"browser\": \"Chrome\", \"browserVersion\": \"not a...</td>\n",
       "      <td>3895546263509774583</td>\n",
       "      <td>{\"continent\": \"Europe\", \"subContinent\": \"South...</td>\n",
       "      <td>3895546263509774583_1472865386</td>\n",
       "      <td>Not Socially Engaged</td>\n",
       "      <td>{\"visits\": \"1\", \"hits\": \"1\", \"pageviews\": \"1\",...</td>\n",
       "      <td>{\"campaign\": \"(not set)\", \"source\": \"google\", ...</td>\n",
       "      <td>1472865386</td>\n",
       "      <td>...</td>\n",
       "      <td>NaN</td>\n",
       "      <td>NaN</td>\n",
       "      <td>NaN</td>\n",
       "      <td>not available in demo dataset</td>\n",
       "      <td>NaN</td>\n",
       "      <td>NaN</td>\n",
       "      <td>NaN</td>\n",
       "      <td>NaN</td>\n",
       "      <td>NaN</td>\n",
       "      <td>NaN</td>\n",
       "    </tr>\n",
       "    <tr>\n",
       "      <th>3</th>\n",
       "      <td>Organic Search</td>\n",
       "      <td>2016-09-02</td>\n",
       "      <td>{\"browser\": \"UC Browser\", \"browserVersion\": \"n...</td>\n",
       "      <td>4763447161404445595</td>\n",
       "      <td>{\"continent\": \"Asia\", \"subContinent\": \"Southea...</td>\n",
       "      <td>4763447161404445595_1472881213</td>\n",
       "      <td>Not Socially Engaged</td>\n",
       "      <td>{\"visits\": \"1\", \"hits\": \"1\", \"pageviews\": \"1\",...</td>\n",
       "      <td>{\"campaign\": \"(not set)\", \"source\": \"google\", ...</td>\n",
       "      <td>1472881213</td>\n",
       "      <td>...</td>\n",
       "      <td>NaN</td>\n",
       "      <td>NaN</td>\n",
       "      <td>NaN</td>\n",
       "      <td>not available in demo dataset</td>\n",
       "      <td>NaN</td>\n",
       "      <td>NaN</td>\n",
       "      <td>NaN</td>\n",
       "      <td>NaN</td>\n",
       "      <td>NaN</td>\n",
       "      <td>NaN</td>\n",
       "    </tr>\n",
       "    <tr>\n",
       "      <th>4</th>\n",
       "      <td>Organic Search</td>\n",
       "      <td>2016-09-02</td>\n",
       "      <td>{\"browser\": \"Chrome\", \"browserVersion\": \"not a...</td>\n",
       "      <td>27294437909732085</td>\n",
       "      <td>{\"continent\": \"Europe\", \"subContinent\": \"North...</td>\n",
       "      <td>27294437909732085_1472822600</td>\n",
       "      <td>Not Socially Engaged</td>\n",
       "      <td>{\"visits\": \"1\", \"hits\": \"1\", \"pageviews\": \"1\",...</td>\n",
       "      <td>{\"campaign\": \"(not set)\", \"source\": \"google\", ...</td>\n",
       "      <td>1472822600</td>\n",
       "      <td>...</td>\n",
       "      <td>NaN</td>\n",
       "      <td>NaN</td>\n",
       "      <td>NaN</td>\n",
       "      <td>not available in demo dataset</td>\n",
       "      <td>NaN</td>\n",
       "      <td>NaN</td>\n",
       "      <td>NaN</td>\n",
       "      <td>NaN</td>\n",
       "      <td>NaN</td>\n",
       "      <td>NaN</td>\n",
       "    </tr>\n",
       "  </tbody>\n",
       "</table>\n",
       "<p>5 rows × 53 columns</p>\n",
       "</div>"
      ],
      "text/plain": [
       "  channelGrouping       date  \\\n",
       "0  Organic Search 2016-09-02   \n",
       "1  Organic Search 2016-09-02   \n",
       "2  Organic Search 2016-09-02   \n",
       "3  Organic Search 2016-09-02   \n",
       "4  Organic Search 2016-09-02   \n",
       "\n",
       "                                              device        fullVisitorId  \\\n",
       "0  {\"browser\": \"Chrome\", \"browserVersion\": \"not a...  1131660440785968503   \n",
       "1  {\"browser\": \"Firefox\", \"browserVersion\": \"not ...   377306020877927890   \n",
       "2  {\"browser\": \"Chrome\", \"browserVersion\": \"not a...  3895546263509774583   \n",
       "3  {\"browser\": \"UC Browser\", \"browserVersion\": \"n...  4763447161404445595   \n",
       "4  {\"browser\": \"Chrome\", \"browserVersion\": \"not a...    27294437909732085   \n",
       "\n",
       "                                          geoNetwork  \\\n",
       "0  {\"continent\": \"Asia\", \"subContinent\": \"Western...   \n",
       "1  {\"continent\": \"Oceania\", \"subContinent\": \"Aust...   \n",
       "2  {\"continent\": \"Europe\", \"subContinent\": \"South...   \n",
       "3  {\"continent\": \"Asia\", \"subContinent\": \"Southea...   \n",
       "4  {\"continent\": \"Europe\", \"subContinent\": \"North...   \n",
       "\n",
       "                        sessionId  socialEngagementType  \\\n",
       "0  1131660440785968503_1472830385  Not Socially Engaged   \n",
       "1   377306020877927890_1472880147  Not Socially Engaged   \n",
       "2  3895546263509774583_1472865386  Not Socially Engaged   \n",
       "3  4763447161404445595_1472881213  Not Socially Engaged   \n",
       "4    27294437909732085_1472822600  Not Socially Engaged   \n",
       "\n",
       "                                              totals  \\\n",
       "0  {\"visits\": \"1\", \"hits\": \"1\", \"pageviews\": \"1\",...   \n",
       "1  {\"visits\": \"1\", \"hits\": \"1\", \"pageviews\": \"1\",...   \n",
       "2  {\"visits\": \"1\", \"hits\": \"1\", \"pageviews\": \"1\",...   \n",
       "3  {\"visits\": \"1\", \"hits\": \"1\", \"pageviews\": \"1\",...   \n",
       "4  {\"visits\": \"1\", \"hits\": \"1\", \"pageviews\": \"1\",...   \n",
       "\n",
       "                                       trafficSource     visitId  \\\n",
       "0  {\"campaign\": \"(not set)\", \"source\": \"google\", ...  1472830385   \n",
       "1  {\"campaign\": \"(not set)\", \"source\": \"google\", ...  1472880147   \n",
       "2  {\"campaign\": \"(not set)\", \"source\": \"google\", ...  1472865386   \n",
       "3  {\"campaign\": \"(not set)\", \"source\": \"google\", ...  1472881213   \n",
       "4  {\"campaign\": \"(not set)\", \"source\": \"google\", ...  1472822600   \n",
       "\n",
       "         ...         campaignCode referralPath adContent  \\\n",
       "0        ...                  NaN          NaN       NaN   \n",
       "1        ...                  NaN          NaN       NaN   \n",
       "2        ...                  NaN          NaN       NaN   \n",
       "3        ...                  NaN          NaN       NaN   \n",
       "4        ...                  NaN          NaN       NaN   \n",
       "\n",
       "              criteriaParameters page isVideoAd gclId adNetworkType slot  \\\n",
       "0  not available in demo dataset  NaN       NaN   NaN           NaN  NaN   \n",
       "1  not available in demo dataset  NaN       NaN   NaN           NaN  NaN   \n",
       "2  not available in demo dataset  NaN       NaN   NaN           NaN  NaN   \n",
       "3  not available in demo dataset  NaN       NaN   NaN           NaN  NaN   \n",
       "4  not available in demo dataset  NaN       NaN   NaN           NaN  NaN   \n",
       "\n",
       "  targetingCriteria  \n",
       "0               NaN  \n",
       "1               NaN  \n",
       "2               NaN  \n",
       "3               NaN  \n",
       "4               NaN  \n",
       "\n",
       "[5 rows x 53 columns]"
      ]
     },
     "execution_count": 12,
     "metadata": {},
     "output_type": "execute_result"
    }
   ],
   "source": [
    "df['visitStartTime']=pd.to_datetime(df['visitStartTime'],unit='s')\n",
    "df.head()"
   ]
  },
  {
   "cell_type": "markdown",
   "metadata": {},
   "source": [
    "Getting year, month and day from date"
   ]
  },
  {
   "cell_type": "code",
   "execution_count": 13,
   "metadata": {},
   "outputs": [
    {
     "data": {
      "text/html": [
       "<div>\n",
       "<style>\n",
       "    .dataframe thead tr:only-child th {\n",
       "        text-align: right;\n",
       "    }\n",
       "\n",
       "    .dataframe thead th {\n",
       "        text-align: left;\n",
       "    }\n",
       "\n",
       "    .dataframe tbody tr th {\n",
       "        vertical-align: top;\n",
       "    }\n",
       "</style>\n",
       "<table border=\"1\" class=\"dataframe\">\n",
       "  <thead>\n",
       "    <tr style=\"text-align: right;\">\n",
       "      <th></th>\n",
       "      <th>channelGrouping</th>\n",
       "      <th>date</th>\n",
       "      <th>device</th>\n",
       "      <th>fullVisitorId</th>\n",
       "      <th>geoNetwork</th>\n",
       "      <th>sessionId</th>\n",
       "      <th>socialEngagementType</th>\n",
       "      <th>totals</th>\n",
       "      <th>trafficSource</th>\n",
       "      <th>visitId</th>\n",
       "      <th>...</th>\n",
       "      <th>criteriaParameters</th>\n",
       "      <th>page</th>\n",
       "      <th>isVideoAd</th>\n",
       "      <th>gclId</th>\n",
       "      <th>adNetworkType</th>\n",
       "      <th>slot</th>\n",
       "      <th>targetingCriteria</th>\n",
       "      <th>year</th>\n",
       "      <th>month</th>\n",
       "      <th>day</th>\n",
       "    </tr>\n",
       "  </thead>\n",
       "  <tbody>\n",
       "    <tr>\n",
       "      <th>0</th>\n",
       "      <td>Organic Search</td>\n",
       "      <td>2016-09-02</td>\n",
       "      <td>{\"browser\": \"Chrome\", \"browserVersion\": \"not a...</td>\n",
       "      <td>1131660440785968503</td>\n",
       "      <td>{\"continent\": \"Asia\", \"subContinent\": \"Western...</td>\n",
       "      <td>1131660440785968503_1472830385</td>\n",
       "      <td>Not Socially Engaged</td>\n",
       "      <td>{\"visits\": \"1\", \"hits\": \"1\", \"pageviews\": \"1\",...</td>\n",
       "      <td>{\"campaign\": \"(not set)\", \"source\": \"google\", ...</td>\n",
       "      <td>1472830385</td>\n",
       "      <td>...</td>\n",
       "      <td>not available in demo dataset</td>\n",
       "      <td>NaN</td>\n",
       "      <td>NaN</td>\n",
       "      <td>NaN</td>\n",
       "      <td>NaN</td>\n",
       "      <td>NaN</td>\n",
       "      <td>NaN</td>\n",
       "      <td>2016</td>\n",
       "      <td>9</td>\n",
       "      <td>2</td>\n",
       "    </tr>\n",
       "    <tr>\n",
       "      <th>1</th>\n",
       "      <td>Organic Search</td>\n",
       "      <td>2016-09-02</td>\n",
       "      <td>{\"browser\": \"Firefox\", \"browserVersion\": \"not ...</td>\n",
       "      <td>377306020877927890</td>\n",
       "      <td>{\"continent\": \"Oceania\", \"subContinent\": \"Aust...</td>\n",
       "      <td>377306020877927890_1472880147</td>\n",
       "      <td>Not Socially Engaged</td>\n",
       "      <td>{\"visits\": \"1\", \"hits\": \"1\", \"pageviews\": \"1\",...</td>\n",
       "      <td>{\"campaign\": \"(not set)\", \"source\": \"google\", ...</td>\n",
       "      <td>1472880147</td>\n",
       "      <td>...</td>\n",
       "      <td>not available in demo dataset</td>\n",
       "      <td>NaN</td>\n",
       "      <td>NaN</td>\n",
       "      <td>NaN</td>\n",
       "      <td>NaN</td>\n",
       "      <td>NaN</td>\n",
       "      <td>NaN</td>\n",
       "      <td>2016</td>\n",
       "      <td>9</td>\n",
       "      <td>2</td>\n",
       "    </tr>\n",
       "    <tr>\n",
       "      <th>2</th>\n",
       "      <td>Organic Search</td>\n",
       "      <td>2016-09-02</td>\n",
       "      <td>{\"browser\": \"Chrome\", \"browserVersion\": \"not a...</td>\n",
       "      <td>3895546263509774583</td>\n",
       "      <td>{\"continent\": \"Europe\", \"subContinent\": \"South...</td>\n",
       "      <td>3895546263509774583_1472865386</td>\n",
       "      <td>Not Socially Engaged</td>\n",
       "      <td>{\"visits\": \"1\", \"hits\": \"1\", \"pageviews\": \"1\",...</td>\n",
       "      <td>{\"campaign\": \"(not set)\", \"source\": \"google\", ...</td>\n",
       "      <td>1472865386</td>\n",
       "      <td>...</td>\n",
       "      <td>not available in demo dataset</td>\n",
       "      <td>NaN</td>\n",
       "      <td>NaN</td>\n",
       "      <td>NaN</td>\n",
       "      <td>NaN</td>\n",
       "      <td>NaN</td>\n",
       "      <td>NaN</td>\n",
       "      <td>2016</td>\n",
       "      <td>9</td>\n",
       "      <td>2</td>\n",
       "    </tr>\n",
       "    <tr>\n",
       "      <th>3</th>\n",
       "      <td>Organic Search</td>\n",
       "      <td>2016-09-02</td>\n",
       "      <td>{\"browser\": \"UC Browser\", \"browserVersion\": \"n...</td>\n",
       "      <td>4763447161404445595</td>\n",
       "      <td>{\"continent\": \"Asia\", \"subContinent\": \"Southea...</td>\n",
       "      <td>4763447161404445595_1472881213</td>\n",
       "      <td>Not Socially Engaged</td>\n",
       "      <td>{\"visits\": \"1\", \"hits\": \"1\", \"pageviews\": \"1\",...</td>\n",
       "      <td>{\"campaign\": \"(not set)\", \"source\": \"google\", ...</td>\n",
       "      <td>1472881213</td>\n",
       "      <td>...</td>\n",
       "      <td>not available in demo dataset</td>\n",
       "      <td>NaN</td>\n",
       "      <td>NaN</td>\n",
       "      <td>NaN</td>\n",
       "      <td>NaN</td>\n",
       "      <td>NaN</td>\n",
       "      <td>NaN</td>\n",
       "      <td>2016</td>\n",
       "      <td>9</td>\n",
       "      <td>2</td>\n",
       "    </tr>\n",
       "    <tr>\n",
       "      <th>4</th>\n",
       "      <td>Organic Search</td>\n",
       "      <td>2016-09-02</td>\n",
       "      <td>{\"browser\": \"Chrome\", \"browserVersion\": \"not a...</td>\n",
       "      <td>27294437909732085</td>\n",
       "      <td>{\"continent\": \"Europe\", \"subContinent\": \"North...</td>\n",
       "      <td>27294437909732085_1472822600</td>\n",
       "      <td>Not Socially Engaged</td>\n",
       "      <td>{\"visits\": \"1\", \"hits\": \"1\", \"pageviews\": \"1\",...</td>\n",
       "      <td>{\"campaign\": \"(not set)\", \"source\": \"google\", ...</td>\n",
       "      <td>1472822600</td>\n",
       "      <td>...</td>\n",
       "      <td>not available in demo dataset</td>\n",
       "      <td>NaN</td>\n",
       "      <td>NaN</td>\n",
       "      <td>NaN</td>\n",
       "      <td>NaN</td>\n",
       "      <td>NaN</td>\n",
       "      <td>NaN</td>\n",
       "      <td>2016</td>\n",
       "      <td>9</td>\n",
       "      <td>2</td>\n",
       "    </tr>\n",
       "  </tbody>\n",
       "</table>\n",
       "<p>5 rows × 56 columns</p>\n",
       "</div>"
      ],
      "text/plain": [
       "  channelGrouping       date  \\\n",
       "0  Organic Search 2016-09-02   \n",
       "1  Organic Search 2016-09-02   \n",
       "2  Organic Search 2016-09-02   \n",
       "3  Organic Search 2016-09-02   \n",
       "4  Organic Search 2016-09-02   \n",
       "\n",
       "                                              device        fullVisitorId  \\\n",
       "0  {\"browser\": \"Chrome\", \"browserVersion\": \"not a...  1131660440785968503   \n",
       "1  {\"browser\": \"Firefox\", \"browserVersion\": \"not ...   377306020877927890   \n",
       "2  {\"browser\": \"Chrome\", \"browserVersion\": \"not a...  3895546263509774583   \n",
       "3  {\"browser\": \"UC Browser\", \"browserVersion\": \"n...  4763447161404445595   \n",
       "4  {\"browser\": \"Chrome\", \"browserVersion\": \"not a...    27294437909732085   \n",
       "\n",
       "                                          geoNetwork  \\\n",
       "0  {\"continent\": \"Asia\", \"subContinent\": \"Western...   \n",
       "1  {\"continent\": \"Oceania\", \"subContinent\": \"Aust...   \n",
       "2  {\"continent\": \"Europe\", \"subContinent\": \"South...   \n",
       "3  {\"continent\": \"Asia\", \"subContinent\": \"Southea...   \n",
       "4  {\"continent\": \"Europe\", \"subContinent\": \"North...   \n",
       "\n",
       "                        sessionId  socialEngagementType  \\\n",
       "0  1131660440785968503_1472830385  Not Socially Engaged   \n",
       "1   377306020877927890_1472880147  Not Socially Engaged   \n",
       "2  3895546263509774583_1472865386  Not Socially Engaged   \n",
       "3  4763447161404445595_1472881213  Not Socially Engaged   \n",
       "4    27294437909732085_1472822600  Not Socially Engaged   \n",
       "\n",
       "                                              totals  \\\n",
       "0  {\"visits\": \"1\", \"hits\": \"1\", \"pageviews\": \"1\",...   \n",
       "1  {\"visits\": \"1\", \"hits\": \"1\", \"pageviews\": \"1\",...   \n",
       "2  {\"visits\": \"1\", \"hits\": \"1\", \"pageviews\": \"1\",...   \n",
       "3  {\"visits\": \"1\", \"hits\": \"1\", \"pageviews\": \"1\",...   \n",
       "4  {\"visits\": \"1\", \"hits\": \"1\", \"pageviews\": \"1\",...   \n",
       "\n",
       "                                       trafficSource     visitId ...  \\\n",
       "0  {\"campaign\": \"(not set)\", \"source\": \"google\", ...  1472830385 ...   \n",
       "1  {\"campaign\": \"(not set)\", \"source\": \"google\", ...  1472880147 ...   \n",
       "2  {\"campaign\": \"(not set)\", \"source\": \"google\", ...  1472865386 ...   \n",
       "3  {\"campaign\": \"(not set)\", \"source\": \"google\", ...  1472881213 ...   \n",
       "4  {\"campaign\": \"(not set)\", \"source\": \"google\", ...  1472822600 ...   \n",
       "\n",
       "              criteriaParameters page isVideoAd gclId adNetworkType slot  \\\n",
       "0  not available in demo dataset  NaN       NaN   NaN           NaN  NaN   \n",
       "1  not available in demo dataset  NaN       NaN   NaN           NaN  NaN   \n",
       "2  not available in demo dataset  NaN       NaN   NaN           NaN  NaN   \n",
       "3  not available in demo dataset  NaN       NaN   NaN           NaN  NaN   \n",
       "4  not available in demo dataset  NaN       NaN   NaN           NaN  NaN   \n",
       "\n",
       "  targetingCriteria  year month day  \n",
       "0               NaN  2016     9   2  \n",
       "1               NaN  2016     9   2  \n",
       "2               NaN  2016     9   2  \n",
       "3               NaN  2016     9   2  \n",
       "4               NaN  2016     9   2  \n",
       "\n",
       "[5 rows x 56 columns]"
      ]
     },
     "execution_count": 13,
     "metadata": {},
     "output_type": "execute_result"
    }
   ],
   "source": [
    "df['year']=df['date'].dt.year\n",
    "df['month']=df['date'].dt.month\n",
    "df['day']=df['date'].dt.day\n",
    "df.head()"
   ]
  },
  {
   "cell_type": "markdown",
   "metadata": {},
   "source": [
    "Getting hour and minute from visitStartTime"
   ]
  },
  {
   "cell_type": "code",
   "execution_count": 14,
   "metadata": {},
   "outputs": [
    {
     "data": {
      "text/html": [
       "<div>\n",
       "<style>\n",
       "    .dataframe thead tr:only-child th {\n",
       "        text-align: right;\n",
       "    }\n",
       "\n",
       "    .dataframe thead th {\n",
       "        text-align: left;\n",
       "    }\n",
       "\n",
       "    .dataframe tbody tr th {\n",
       "        vertical-align: top;\n",
       "    }\n",
       "</style>\n",
       "<table border=\"1\" class=\"dataframe\">\n",
       "  <thead>\n",
       "    <tr style=\"text-align: right;\">\n",
       "      <th></th>\n",
       "      <th>channelGrouping</th>\n",
       "      <th>date</th>\n",
       "      <th>device</th>\n",
       "      <th>fullVisitorId</th>\n",
       "      <th>geoNetwork</th>\n",
       "      <th>sessionId</th>\n",
       "      <th>socialEngagementType</th>\n",
       "      <th>totals</th>\n",
       "      <th>trafficSource</th>\n",
       "      <th>visitId</th>\n",
       "      <th>...</th>\n",
       "      <th>isVideoAd</th>\n",
       "      <th>gclId</th>\n",
       "      <th>adNetworkType</th>\n",
       "      <th>slot</th>\n",
       "      <th>targetingCriteria</th>\n",
       "      <th>year</th>\n",
       "      <th>month</th>\n",
       "      <th>day</th>\n",
       "      <th>hour</th>\n",
       "      <th>minute</th>\n",
       "    </tr>\n",
       "  </thead>\n",
       "  <tbody>\n",
       "    <tr>\n",
       "      <th>0</th>\n",
       "      <td>Organic Search</td>\n",
       "      <td>2016-09-02</td>\n",
       "      <td>{\"browser\": \"Chrome\", \"browserVersion\": \"not a...</td>\n",
       "      <td>1131660440785968503</td>\n",
       "      <td>{\"continent\": \"Asia\", \"subContinent\": \"Western...</td>\n",
       "      <td>1131660440785968503_1472830385</td>\n",
       "      <td>Not Socially Engaged</td>\n",
       "      <td>{\"visits\": \"1\", \"hits\": \"1\", \"pageviews\": \"1\",...</td>\n",
       "      <td>{\"campaign\": \"(not set)\", \"source\": \"google\", ...</td>\n",
       "      <td>1472830385</td>\n",
       "      <td>...</td>\n",
       "      <td>NaN</td>\n",
       "      <td>NaN</td>\n",
       "      <td>NaN</td>\n",
       "      <td>NaN</td>\n",
       "      <td>NaN</td>\n",
       "      <td>2016</td>\n",
       "      <td>9</td>\n",
       "      <td>2</td>\n",
       "      <td>15</td>\n",
       "      <td>33</td>\n",
       "    </tr>\n",
       "    <tr>\n",
       "      <th>1</th>\n",
       "      <td>Organic Search</td>\n",
       "      <td>2016-09-02</td>\n",
       "      <td>{\"browser\": \"Firefox\", \"browserVersion\": \"not ...</td>\n",
       "      <td>377306020877927890</td>\n",
       "      <td>{\"continent\": \"Oceania\", \"subContinent\": \"Aust...</td>\n",
       "      <td>377306020877927890_1472880147</td>\n",
       "      <td>Not Socially Engaged</td>\n",
       "      <td>{\"visits\": \"1\", \"hits\": \"1\", \"pageviews\": \"1\",...</td>\n",
       "      <td>{\"campaign\": \"(not set)\", \"source\": \"google\", ...</td>\n",
       "      <td>1472880147</td>\n",
       "      <td>...</td>\n",
       "      <td>NaN</td>\n",
       "      <td>NaN</td>\n",
       "      <td>NaN</td>\n",
       "      <td>NaN</td>\n",
       "      <td>NaN</td>\n",
       "      <td>2016</td>\n",
       "      <td>9</td>\n",
       "      <td>2</td>\n",
       "      <td>5</td>\n",
       "      <td>22</td>\n",
       "    </tr>\n",
       "    <tr>\n",
       "      <th>2</th>\n",
       "      <td>Organic Search</td>\n",
       "      <td>2016-09-02</td>\n",
       "      <td>{\"browser\": \"Chrome\", \"browserVersion\": \"not a...</td>\n",
       "      <td>3895546263509774583</td>\n",
       "      <td>{\"continent\": \"Europe\", \"subContinent\": \"South...</td>\n",
       "      <td>3895546263509774583_1472865386</td>\n",
       "      <td>Not Socially Engaged</td>\n",
       "      <td>{\"visits\": \"1\", \"hits\": \"1\", \"pageviews\": \"1\",...</td>\n",
       "      <td>{\"campaign\": \"(not set)\", \"source\": \"google\", ...</td>\n",
       "      <td>1472865386</td>\n",
       "      <td>...</td>\n",
       "      <td>NaN</td>\n",
       "      <td>NaN</td>\n",
       "      <td>NaN</td>\n",
       "      <td>NaN</td>\n",
       "      <td>NaN</td>\n",
       "      <td>2016</td>\n",
       "      <td>9</td>\n",
       "      <td>2</td>\n",
       "      <td>1</td>\n",
       "      <td>16</td>\n",
       "    </tr>\n",
       "    <tr>\n",
       "      <th>3</th>\n",
       "      <td>Organic Search</td>\n",
       "      <td>2016-09-02</td>\n",
       "      <td>{\"browser\": \"UC Browser\", \"browserVersion\": \"n...</td>\n",
       "      <td>4763447161404445595</td>\n",
       "      <td>{\"continent\": \"Asia\", \"subContinent\": \"Southea...</td>\n",
       "      <td>4763447161404445595_1472881213</td>\n",
       "      <td>Not Socially Engaged</td>\n",
       "      <td>{\"visits\": \"1\", \"hits\": \"1\", \"pageviews\": \"1\",...</td>\n",
       "      <td>{\"campaign\": \"(not set)\", \"source\": \"google\", ...</td>\n",
       "      <td>1472881213</td>\n",
       "      <td>...</td>\n",
       "      <td>NaN</td>\n",
       "      <td>NaN</td>\n",
       "      <td>NaN</td>\n",
       "      <td>NaN</td>\n",
       "      <td>NaN</td>\n",
       "      <td>2016</td>\n",
       "      <td>9</td>\n",
       "      <td>2</td>\n",
       "      <td>5</td>\n",
       "      <td>40</td>\n",
       "    </tr>\n",
       "    <tr>\n",
       "      <th>4</th>\n",
       "      <td>Organic Search</td>\n",
       "      <td>2016-09-02</td>\n",
       "      <td>{\"browser\": \"Chrome\", \"browserVersion\": \"not a...</td>\n",
       "      <td>27294437909732085</td>\n",
       "      <td>{\"continent\": \"Europe\", \"subContinent\": \"North...</td>\n",
       "      <td>27294437909732085_1472822600</td>\n",
       "      <td>Not Socially Engaged</td>\n",
       "      <td>{\"visits\": \"1\", \"hits\": \"1\", \"pageviews\": \"1\",...</td>\n",
       "      <td>{\"campaign\": \"(not set)\", \"source\": \"google\", ...</td>\n",
       "      <td>1472822600</td>\n",
       "      <td>...</td>\n",
       "      <td>NaN</td>\n",
       "      <td>NaN</td>\n",
       "      <td>NaN</td>\n",
       "      <td>NaN</td>\n",
       "      <td>NaN</td>\n",
       "      <td>2016</td>\n",
       "      <td>9</td>\n",
       "      <td>2</td>\n",
       "      <td>13</td>\n",
       "      <td>23</td>\n",
       "    </tr>\n",
       "  </tbody>\n",
       "</table>\n",
       "<p>5 rows × 58 columns</p>\n",
       "</div>"
      ],
      "text/plain": [
       "  channelGrouping       date  \\\n",
       "0  Organic Search 2016-09-02   \n",
       "1  Organic Search 2016-09-02   \n",
       "2  Organic Search 2016-09-02   \n",
       "3  Organic Search 2016-09-02   \n",
       "4  Organic Search 2016-09-02   \n",
       "\n",
       "                                              device        fullVisitorId  \\\n",
       "0  {\"browser\": \"Chrome\", \"browserVersion\": \"not a...  1131660440785968503   \n",
       "1  {\"browser\": \"Firefox\", \"browserVersion\": \"not ...   377306020877927890   \n",
       "2  {\"browser\": \"Chrome\", \"browserVersion\": \"not a...  3895546263509774583   \n",
       "3  {\"browser\": \"UC Browser\", \"browserVersion\": \"n...  4763447161404445595   \n",
       "4  {\"browser\": \"Chrome\", \"browserVersion\": \"not a...    27294437909732085   \n",
       "\n",
       "                                          geoNetwork  \\\n",
       "0  {\"continent\": \"Asia\", \"subContinent\": \"Western...   \n",
       "1  {\"continent\": \"Oceania\", \"subContinent\": \"Aust...   \n",
       "2  {\"continent\": \"Europe\", \"subContinent\": \"South...   \n",
       "3  {\"continent\": \"Asia\", \"subContinent\": \"Southea...   \n",
       "4  {\"continent\": \"Europe\", \"subContinent\": \"North...   \n",
       "\n",
       "                        sessionId  socialEngagementType  \\\n",
       "0  1131660440785968503_1472830385  Not Socially Engaged   \n",
       "1   377306020877927890_1472880147  Not Socially Engaged   \n",
       "2  3895546263509774583_1472865386  Not Socially Engaged   \n",
       "3  4763447161404445595_1472881213  Not Socially Engaged   \n",
       "4    27294437909732085_1472822600  Not Socially Engaged   \n",
       "\n",
       "                                              totals  \\\n",
       "0  {\"visits\": \"1\", \"hits\": \"1\", \"pageviews\": \"1\",...   \n",
       "1  {\"visits\": \"1\", \"hits\": \"1\", \"pageviews\": \"1\",...   \n",
       "2  {\"visits\": \"1\", \"hits\": \"1\", \"pageviews\": \"1\",...   \n",
       "3  {\"visits\": \"1\", \"hits\": \"1\", \"pageviews\": \"1\",...   \n",
       "4  {\"visits\": \"1\", \"hits\": \"1\", \"pageviews\": \"1\",...   \n",
       "\n",
       "                                       trafficSource     visitId  ...    \\\n",
       "0  {\"campaign\": \"(not set)\", \"source\": \"google\", ...  1472830385  ...     \n",
       "1  {\"campaign\": \"(not set)\", \"source\": \"google\", ...  1472880147  ...     \n",
       "2  {\"campaign\": \"(not set)\", \"source\": \"google\", ...  1472865386  ...     \n",
       "3  {\"campaign\": \"(not set)\", \"source\": \"google\", ...  1472881213  ...     \n",
       "4  {\"campaign\": \"(not set)\", \"source\": \"google\", ...  1472822600  ...     \n",
       "\n",
       "   isVideoAd gclId adNetworkType slot targetingCriteria  year month day hour  \\\n",
       "0        NaN   NaN           NaN  NaN               NaN  2016     9   2   15   \n",
       "1        NaN   NaN           NaN  NaN               NaN  2016     9   2    5   \n",
       "2        NaN   NaN           NaN  NaN               NaN  2016     9   2    1   \n",
       "3        NaN   NaN           NaN  NaN               NaN  2016     9   2    5   \n",
       "4        NaN   NaN           NaN  NaN               NaN  2016     9   2   13   \n",
       "\n",
       "  minute  \n",
       "0     33  \n",
       "1     22  \n",
       "2     16  \n",
       "3     40  \n",
       "4     23  \n",
       "\n",
       "[5 rows x 58 columns]"
      ]
     },
     "execution_count": 14,
     "metadata": {},
     "output_type": "execute_result"
    }
   ],
   "source": [
    "df['hour']=df['visitStartTime'].dt.hour\n",
    "df['minute']=df['visitStartTime'].dt.minute\n",
    "df.head()"
   ]
  },
  {
   "cell_type": "markdown",
   "metadata": {},
   "source": [
    "# Exploratory Data Analysis"
   ]
  },
  {
   "cell_type": "code",
   "execution_count": 16,
   "metadata": {},
   "outputs": [
    {
     "data": {
      "text/plain": [
       "(903653, 58)"
      ]
     },
     "execution_count": 16,
     "metadata": {},
     "output_type": "execute_result"
    }
   ],
   "source": [
    "df.shape"
   ]
  },
  {
   "cell_type": "code",
   "execution_count": 21,
   "metadata": {},
   "outputs": [
    {
     "data": {
      "text/plain": [
       "Index(['channelGrouping', 'date', 'device', 'fullVisitorId', 'geoNetwork',\n",
       "       'sessionId', 'socialEngagementType', 'totals', 'trafficSource',\n",
       "       'visitId', 'visitNumber', 'visitStartTime', 'browser', 'deviceCategory',\n",
       "       'operatingSystem', 'language', 'browserVersion', 'browserSize',\n",
       "       'mobileDeviceMarketingName', 'mobileDeviceModel', 'screenResolution',\n",
       "       'continent', 'subContinent', 'region', 'country', 'city', 'metro',\n",
       "       'networkLocation', 'latitude', 'longitude', 'networkDomain', 'bounces',\n",
       "       'hits', 'newVisits', 'pageviews', 'visits', 'transactionRevenue',\n",
       "       'adwordsClickInfo', 'campaign', 'keyword', 'medium', 'source',\n",
       "       'isTrueDirect', 'campaignCode', 'referralPath', 'adContent',\n",
       "       'criteriaParameters', 'page', 'isVideoAd', 'gclId', 'adNetworkType',\n",
       "       'slot', 'targetingCriteria', 'year', 'month', 'day', 'hour', 'minute'],\n",
       "      dtype='object')"
      ]
     },
     "execution_count": 21,
     "metadata": {},
     "output_type": "execute_result"
    }
   ],
   "source": [
    "df.columns"
   ]
  },
  {
   "cell_type": "markdown",
   "metadata": {},
   "source": [
    "channelGrouping"
   ]
  },
  {
   "cell_type": "code",
   "execution_count": 18,
   "metadata": {},
   "outputs": [
    {
     "data": {
      "text/plain": [
       "Organic Search    381561\n",
       "Social            226117\n",
       "Direct            143026\n",
       "Referral          104838\n",
       "Paid Search        25326\n",
       "Affiliates         16403\n",
       "Display             6262\n",
       "(Other)              120\n",
       "Name: channelGrouping, dtype: int64"
      ]
     },
     "execution_count": 18,
     "metadata": {},
     "output_type": "execute_result"
    }
   ],
   "source": [
    "df['channelGrouping'].value_counts()"
   ]
  },
  {
   "cell_type": "code",
   "execution_count": 17,
   "metadata": {},
   "outputs": [
    {
     "data": {
      "text/plain": [
       "<matplotlib.axes._subplots.AxesSubplot at 0xceb5fd0>"
      ]
     },
     "execution_count": 17,
     "metadata": {},
     "output_type": "execute_result"
    },
    {
     "data": {
      "image/png": "[encoded data removed]",
      "text/plain": [
       "<Figure size 1080x576 with 1 Axes>"
      ]
     },
     "metadata": {},
     "output_type": "display_data"
    }
   ],
   "source": [
    "df['channelGrouping'].value_counts().plot(kind='bar', figsize=(15,8))"
   ]
  },
  {
   "cell_type": "markdown",
   "metadata": {},
   "source": [
    "browser"
   ]
  },
  {
   "cell_type": "code",
   "execution_count": 19,
   "metadata": {},
   "outputs": [
    {
     "data": {
      "text/plain": [
       "Chrome                                         620364\n",
       "Safari                                         182245\n",
       "Firefox                                         37069\n",
       "Internet Explorer                               19375\n",
       "Edge                                            10205\n",
       "Android Webview                                  7865\n",
       "Safari (in-app)                                  6850\n",
       "Opera Mini                                       6139\n",
       "Opera                                            5643\n",
       "UC Browser                                       2427\n",
       "YaBrowser                                        2096\n",
       "Coc Coc                                           727\n",
       "Amazon Silk                                       561\n",
       "Android Browser                                   553\n",
       "Mozilla Compatible Agent                          374\n",
       "MRCHROME                                          263\n",
       "Maxthon                                           246\n",
       "BlackBerry                                        184\n",
       "Nintendo Browser                                  140\n",
       "Puffin                                             93\n",
       "Nokia Browser                                      67\n",
       "Iron                                               33\n",
       "LYF_LS_4002_12                                     21\n",
       "SeaMonkey                                          15\n",
       "Seznam                                             11\n",
       "Mozilla                                            11\n",
       "Apple-iPhone7C2                                     9\n",
       "(not set)                                           8\n",
       "0                                                   7\n",
       "Nichrome                                            7\n",
       "osee2unifiedRelease                                 5\n",
       "Lunascape                                           5\n",
       "DASH_JR_3G                                          4\n",
       "no-ua                                               3\n",
       "LYF_LS_4002_11                                      3\n",
       "ThumbSniper                                         3\n",
       "Android Runtime                                     2\n",
       "MQQBrowser                                          2\n",
       "YE                                                  2\n",
       "NokiaE52-1                                          2\n",
       "DoCoMo                                              1\n",
       "subjectAgent: NoticiasBoom                          1\n",
       "M5                                                  1\n",
       "HTC802t_TD                                          1\n",
       "IE with Chrome Frame                                1\n",
       "CSM Click                                           1\n",
       "ADM                                                 1\n",
       "TCL P500M                                           1\n",
       "Hisense M20-M_LTE                                   1\n",
       "[Use default User-agent string] LIVRENPOCHE         1\n",
       "Reddit                                              1\n",
       "Changa 99695759                                     1\n",
       "User Agent                                          1\n",
       "Konqueror                                           1\n",
       "Name: browser, dtype: int64"
      ]
     },
     "execution_count": 19,
     "metadata": {},
     "output_type": "execute_result"
    }
   ],
   "source": [
    "df['browser'].value_counts()"
   ]
  },
  {
   "cell_type": "code",
   "execution_count": 20,
   "metadata": {},
   "outputs": [
    {
     "data": {
      "text/plain": [
       "<matplotlib.axes._subplots.AxesSubplot at 0x28a3eeb8>"
      ]
     },
     "execution_count": 20,
     "metadata": {},
     "output_type": "execute_result"
    },
    {
     "data": {
      "image/png": "[encoded data removed]",
      "text/plain": [
       "<Figure size 1080x576 with 1 Axes>"
      ]
     },
     "metadata": {},
     "output_type": "display_data"
    }
   ],
   "source": [
    "df['browser'].value_counts().head(10).plot(kind='bar', figsize=(15,8))"
   ]
  },
  {
   "cell_type": "markdown",
   "metadata": {},
   "source": [
    "deviceCategory"
   ]
  },
  {
   "cell_type": "code",
   "execution_count": 21,
   "metadata": {},
   "outputs": [
    {
     "data": {
      "text/plain": [
       "desktop    664479\n",
       "mobile     208725\n",
       "tablet      30449\n",
       "Name: deviceCategory, dtype: int64"
      ]
     },
     "execution_count": 21,
     "metadata": {},
     "output_type": "execute_result"
    }
   ],
   "source": [
    "df['deviceCategory'].value_counts()"
   ]
  },
  {
   "cell_type": "code",
   "execution_count": 22,
   "metadata": {},
   "outputs": [
    {
     "data": {
      "text/plain": [
       "<matplotlib.axes._subplots.AxesSubplot at 0x28af27b8>"
      ]
     },
     "execution_count": 22,
     "metadata": {},
     "output_type": "execute_result"
    },
    {
     "data": {
      "image/png": "[encoded data removed]",
      "text/plain": [
       "<Figure size 1080x576 with 1 Axes>"
      ]
     },
     "metadata": {},
     "output_type": "display_data"
    }
   ],
   "source": [
    "df['deviceCategory'].value_counts().plot(kind='bar', figsize=(15,8))"
   ]
  },
  {
   "cell_type": "markdown",
   "metadata": {},
   "source": [
    "operatingSystem"
   ]
  },
  {
   "cell_type": "code",
   "execution_count": 23,
   "metadata": {},
   "outputs": [
    {
     "data": {
      "text/plain": [
       "Windows          350072\n",
       "Macintosh        253938\n",
       "Android          123892\n",
       "iOS              107665\n",
       "Linux             35034\n",
       "Chrome OS         26337\n",
       "(not set)          4695\n",
       "Windows Phone      1216\n",
       "Samsung             280\n",
       "BlackBerry          218\n",
       "Nintendo Wii        100\n",
       "Firefox OS           89\n",
       "Xbox                 66\n",
       "Nintendo WiiU        35\n",
       "FreeBSD               9\n",
       "OpenBSD               2\n",
       "Nokia                 2\n",
       "SunOS                 1\n",
       "NTT DoCoMo            1\n",
       "Nintendo 3DS          1\n",
       "Name: operatingSystem, dtype: int64"
      ]
     },
     "execution_count": 23,
     "metadata": {},
     "output_type": "execute_result"
    }
   ],
   "source": [
    "df['operatingSystem'].value_counts()"
   ]
  },
  {
   "cell_type": "code",
   "execution_count": 19,
   "metadata": {},
   "outputs": [
    {
     "data": {
      "text/plain": [
       "<matplotlib.axes._subplots.AxesSubplot at 0xcdfb6a0>"
      ]
     },
     "execution_count": 19,
     "metadata": {},
     "output_type": "execute_result"
    },
    {
     "data": {
      "image/png": "[encoded data removed]",
      "text/plain": [
       "<Figure size 1080x576 with 1 Axes>"
      ]
     },
     "metadata": {},
     "output_type": "display_data"
    }
   ],
   "source": [
    "df['operatingSystem'].value_counts().plot(kind='bar', figsize=(15,8))"
   ]
  },
  {
   "cell_type": "markdown",
   "metadata": {},
   "source": [
    "continent"
   ]
  },
  {
   "cell_type": "code",
   "execution_count": 25,
   "metadata": {},
   "outputs": [
    {
     "data": {
      "text/plain": [
       "Americas     450377\n",
       "Asia         223698\n",
       "Europe       198311\n",
       "Oceania       15054\n",
       "Africa        14745\n",
       "(not set)      1468\n",
       "Name: continent, dtype: int64"
      ]
     },
     "execution_count": 25,
     "metadata": {},
     "output_type": "execute_result"
    }
   ],
   "source": [
    "df['continent'].value_counts()"
   ]
  },
  {
   "cell_type": "code",
   "execution_count": 26,
   "metadata": {},
   "outputs": [
    {
     "data": {
      "text/plain": [
       "<matplotlib.axes._subplots.AxesSubplot at 0x29a5a240>"
      ]
     },
     "execution_count": 26,
     "metadata": {},
     "output_type": "execute_result"
    },
    {
     "data": {
      "image/png": "[encoded data removed]",
      "text/plain": [
       "<Figure size 1080x576 with 1 Axes>"
      ]
     },
     "metadata": {},
     "output_type": "display_data"
    }
   ],
   "source": [
    "df['continent'].value_counts().plot(kind='bar', figsize=(15,8))"
   ]
  },
  {
   "cell_type": "markdown",
   "metadata": {},
   "source": [
    "subContinent"
   ]
  },
  {
   "cell_type": "code",
   "execution_count": 27,
   "metadata": {},
   "outputs": [
    {
     "data": {
      "text/plain": [
       "Northern America      390657\n",
       "Southeast Asia         77800\n",
       "Southern Asia          59321\n",
       "Western Europe         59114\n",
       "Northern Europe        58168\n",
       "Eastern Asia           46919\n",
       "Eastern Europe         45249\n",
       "South America          41731\n",
       "Western Asia           38443\n",
       "Southern Europe        35780\n",
       "Central America        15583\n",
       "Australasia            14893\n",
       "Northern Africa         7683\n",
       "Western Africa          2573\n",
       "Caribbean               2406\n",
       "Southern Africa         2169\n",
       "Eastern Africa          1927\n",
       "(not set)               1468\n",
       "Central Asia            1215\n",
       "Middle Africa            393\n",
       "Melanesia                 81\n",
       "Micronesian Region        55\n",
       "Polynesia                 25\n",
       "Name: subContinent, dtype: int64"
      ]
     },
     "execution_count": 27,
     "metadata": {},
     "output_type": "execute_result"
    }
   ],
   "source": [
    "df['subContinent'].value_counts()"
   ]
  },
  {
   "cell_type": "code",
   "execution_count": 28,
   "metadata": {},
   "outputs": [
    {
     "data": {
      "text/plain": [
       "<matplotlib.axes._subplots.AxesSubplot at 0x29f20be0>"
      ]
     },
     "execution_count": 28,
     "metadata": {},
     "output_type": "execute_result"
    },
    {
     "data": {
      "image/png": "[encoded data removed]",
      "text/plain": [
       "<Figure size 1080x576 with 1 Axes>"
      ]
     },
     "metadata": {},
     "output_type": "display_data"
    }
   ],
   "source": [
    "df['subContinent'].value_counts().plot(kind='bar',figsize=(15,8))"
   ]
  },
  {
   "cell_type": "markdown",
   "metadata": {},
   "source": [
    "country"
   ]
  },
  {
   "cell_type": "code",
   "execution_count": 29,
   "metadata": {},
   "outputs": [
    {
     "data": {
      "text/plain": [
       "United States               364744\n",
       "India                        51140\n",
       "United Kingdom               37393\n",
       "Canada                       25869\n",
       "Vietnam                      24598\n",
       "Turkey                       20522\n",
       "Thailand                     20123\n",
       "Germany                      19980\n",
       "Brazil                       19783\n",
       "Japan                        19731\n",
       "France                       15832\n",
       "Mexico                       13225\n",
       "Taiwan                       12996\n",
       "Australia                    12698\n",
       "Russia                       11662\n",
       "Spain                        11658\n",
       "Netherlands                  11453\n",
       "Italy                        11332\n",
       "Poland                        9693\n",
       "Indonesia                     9273\n",
       "Philippines                   9244\n",
       "Singapore                     7172\n",
       "Ireland                       6493\n",
       "Malaysia                      6439\n",
       "Romania                       6428\n",
       "Ukraine                       5577\n",
       "Israel                        5563\n",
       "Peru                          5546\n",
       "Sweden                        5315\n",
       "South Korea                   5237\n",
       "                             ...  \n",
       "Liechtenstein                    7\n",
       "Timor-Leste                      7\n",
       "Lesotho                          6\n",
       "Greenland                        5\n",
       "British Virgin Islands           5\n",
       "Turkmenistan                     5\n",
       "Antigua & Barbuda                5\n",
       "Guinea-Bissau                    4\n",
       "San Marino                       4\n",
       "Caribbean Netherlands            4\n",
       "Central African Republic         4\n",
       "Equatorial Guinea                4\n",
       "Isle of Man                      3\n",
       "Vanuatu                          3\n",
       "Congo - Brazzaville              3\n",
       "Cook Islands                     3\n",
       "Dominica                         3\n",
       "Seychelles                       3\n",
       "Marshall Islands                 2\n",
       "Comoros                          2\n",
       "Åland Islands                    1\n",
       "St. Barthélemy                   1\n",
       "American Samoa                   1\n",
       "St. Martin                       1\n",
       "Samoa                            1\n",
       "Norfolk Island                   1\n",
       "St. Pierre & Miquelon            1\n",
       "Anguilla                         1\n",
       "São Tomé & Príncipe              1\n",
       "Eritrea                          1\n",
       "Name: country, Length: 222, dtype: int64"
      ]
     },
     "execution_count": 29,
     "metadata": {},
     "output_type": "execute_result"
    }
   ],
   "source": [
    "df['country'].value_counts()"
   ]
  },
  {
   "cell_type": "code",
   "execution_count": 30,
   "metadata": {},
   "outputs": [
    {
     "data": {
      "text/plain": [
       "<matplotlib.axes._subplots.AxesSubplot at 0x3056c588>"
      ]
     },
     "execution_count": 30,
     "metadata": {},
     "output_type": "execute_result"
    },
    {
     "data": {
      "image/png": "[encoded data removed]",
      "text/plain": [
       "<Figure size 1080x576 with 1 Axes>"
      ]
     },
     "metadata": {},
     "output_type": "display_data"
    }
   ],
   "source": [
    "df['country'].value_counts().head(10).plot(kind='bar', figsize=(15,8))"
   ]
  },
  {
   "cell_type": "markdown",
   "metadata": {},
   "source": [
    "region"
   ]
  },
  {
   "cell_type": "code",
   "execution_count": 31,
   "metadata": {},
   "outputs": [
    {
     "data": {
      "text/plain": [
       "not available in demo dataset    508229\n",
       "California                       107495\n",
       "(not set)                         27827\n",
       "New York                          26433\n",
       "England                           13198\n",
       "Texas                              8749\n",
       "Bangkok                            7709\n",
       "Washington                         7642\n",
       "Illinois                           7585\n",
       "Ho Chi Minh                        7250\n",
       "Istanbul                           6330\n",
       "Maharashtra                        6184\n",
       "Ontario                            5997\n",
       "Taipei City                        5789\n",
       "Karnataka                          5476\n",
       "Delhi                              5278\n",
       "Hanoi                              5141\n",
       "New South Wales                    4932\n",
       "Tamil Nadu                         4632\n",
       "Ile-de-France                      4338\n",
       "State of Sao Paulo                 4189\n",
       "Telangana                          3955\n",
       "County Dublin                      3650\n",
       "Tel Aviv District                  3633\n",
       "Tokyo                              3341\n",
       "Jakarta                            3338\n",
       "Masovian Voivodeship               3288\n",
       "Virginia                           3101\n",
       "Community of Madrid                2937\n",
       "Victoria                           2741\n",
       "                                  ...  \n",
       "State of Espirito Santo               6\n",
       "Phu Tho Province                      6\n",
       "Lopburi                               6\n",
       "Beirut Governorate                    6\n",
       "Assam                                 6\n",
       "Abruzzo                               6\n",
       "Gelderland                            6\n",
       "Overijssel                            6\n",
       "Lviv Oblast                           6\n",
       "Islamabad Capital Territory           6\n",
       "Oklahoma                              6\n",
       "Puebla                                6\n",
       "Nord-Pas-de-Calais                    6\n",
       "Bremen                                6\n",
       "Rhone-Alpes                           6\n",
       "Leiria District                       6\n",
       "Aydin Province                        6\n",
       "Okinawa Prefecture                    6\n",
       "Guanajuato                            6\n",
       "Eskisehir Province                    6\n",
       "Maha Sarakham                         6\n",
       "Baja California                       6\n",
       "Binh Phuoc                            6\n",
       "Erzurum                               6\n",
       "Sonora                                6\n",
       "Oran Province                         6\n",
       "Queretaro                             6\n",
       "San Salvador Department               5\n",
       "Kumamoto Prefecture                   5\n",
       "Montana                               3\n",
       "Name: region, Length: 376, dtype: int64"
      ]
     },
     "execution_count": 31,
     "metadata": {},
     "output_type": "execute_result"
    }
   ],
   "source": [
    "df['region'].value_counts()"
   ]
  },
  {
   "cell_type": "code",
   "execution_count": 32,
   "metadata": {},
   "outputs": [
    {
     "data": {
      "text/plain": [
       "<matplotlib.axes._subplots.AxesSubplot at 0x30ab8320>"
      ]
     },
     "execution_count": 32,
     "metadata": {},
     "output_type": "execute_result"
    },
    {
     "data": {
      "image/png": "[encoded data removed]",
      "text/plain": [
       "<Figure size 1080x576 with 1 Axes>"
      ]
     },
     "metadata": {},
     "output_type": "display_data"
    }
   ],
   "source": [
    "df['region'].value_counts().head(10).plot(kind='bar', figsize=(15,8))"
   ]
  },
  {
   "cell_type": "markdown",
   "metadata": {},
   "source": [
    "medium"
   ]
  },
  {
   "cell_type": "code",
   "execution_count": 57,
   "metadata": {},
   "outputs": [
    {
     "data": {
      "text/plain": [
       "5    381561\n",
       "6    330955\n",
       "0    143026\n",
       "3     25326\n",
       "2     16403\n",
       "4      6262\n",
       "1       120\n",
       "Name: medium, dtype: int64"
      ]
     },
     "execution_count": 57,
     "metadata": {},
     "output_type": "execute_result"
    }
   ],
   "source": [
    "df['medium'].value_counts()"
   ]
  },
  {
   "cell_type": "code",
   "execution_count": 34,
   "metadata": {},
   "outputs": [
    {
     "data": {
      "text/plain": [
       "<matplotlib.axes._subplots.AxesSubplot at 0x3037f550>"
      ]
     },
     "execution_count": 34,
     "metadata": {},
     "output_type": "execute_result"
    },
    {
     "data": {
      "image/png": "[encoded data removed]",
      "text/plain": [
       "<Figure size 1080x576 with 1 Axes>"
      ]
     },
     "metadata": {},
     "output_type": "display_data"
    }
   ],
   "source": [
    "df['medium'].value_counts().plot(kind='bar', figsize=(15,8))"
   ]
  },
  {
   "cell_type": "markdown",
   "metadata": {},
   "source": [
    "source"
   ]
  },
  {
   "cell_type": "code",
   "execution_count": 35,
   "metadata": {},
   "outputs": [
    {
     "data": {
      "text/plain": [
       "google                                               400788\n",
       "youtube.com                                          212602\n",
       "(direct)                                             143028\n",
       "mall.googleplex.com                                   66416\n",
       "Partners                                              16411\n",
       "analytics.google.com                                  16172\n",
       "dfa                                                    5686\n",
       "google.com                                             4669\n",
       "m.facebook.com                                         3365\n",
       "baidu                                                  3356\n",
       "sites.google.com                                       2983\n",
       "facebook.com                                           2296\n",
       "siliconvalley.about.com                                2097\n",
       "reddit.com                                             2022\n",
       "qiita.com                                              1813\n",
       "quora.com                                              1546\n",
       "bing                                                   1530\n",
       "t.co                                                   1529\n",
       "yahoo                                                  1480\n",
       "mail.google.com                                        1457\n",
       "gdeals.googleplex.com                                  1063\n",
       "groups.google.com                                      1025\n",
       "l.facebook.com                                          795\n",
       "blog.golang.org                                         742\n",
       "dealspotr.com                                           528\n",
       "plus.google.com                                         524\n",
       "moma.corp.google.com                                    419\n",
       "docs.google.com                                         388\n",
       "productforums.google.com                                364\n",
       "google.co.jp                                            356\n",
       "                                                      ...  \n",
       "msn                                                       1\n",
       "news.ycombinator.com                                      1\n",
       "0.shared.bow.cat2.ads-bow.yw.borg.google.com:9856         1\n",
       "adwords-next-nightly.qa.adz.google.com                    1\n",
       "plusapp-autopush.corp.google.com                          1\n",
       "google.com.ar                                             1\n",
       "allo.corp.google.com                                      1\n",
       "good.barkpost.com                                         1\n",
       "search.pch.com                                            1\n",
       "us.reddit.com                                             1\n",
       "yt-go-12345.googleplex.com                                1\n",
       "hosted.verticalresponse.com                               1\n",
       "hk.search.yahoo.com                                       1\n",
       "0.shared.bow.cat2.ads-bow.yw.borg.google.com:9847         1\n",
       "int.search.mywebsearch.com                                1\n",
       "blackboard.towson.edu                                     1\n",
       "0.shared.bow.cat2.ads-bow.lf.borg.google.com:9860         1\n",
       "gsuite.google.com                                         1\n",
       "google.no                                                 1\n",
       "0.shared.bow.cat2.ads-bow.yw.borg.google.com:9885         1\n",
       "ps-dm.reddit.com                                          1\n",
       "google.ro                                                 1\n",
       "0.shared.bow.cat2.ads-bow.yw.borg.google.com:9836         1\n",
       "0.shared.bow.cat2.ads-bow.qk.borg.google.com:9846         1\n",
       "0.shared.bow.cat2.ads-bow.lf.borg.google.com:9857         1\n",
       "cases2.corp.google.com                                    1\n",
       "wanelo.com                                                1\n",
       "prod.facebook.com                                         1\n",
       "tumblr.com                                                1\n",
       "0.shared.bow.cat2.ads-bow.vk.borg.google.com:9878         1\n",
       "Name: source, Length: 380, dtype: int64"
      ]
     },
     "execution_count": 35,
     "metadata": {},
     "output_type": "execute_result"
    }
   ],
   "source": [
    "df['source'].value_counts()"
   ]
  },
  {
   "cell_type": "code",
   "execution_count": 36,
   "metadata": {},
   "outputs": [
    {
     "data": {
      "text/plain": [
       "<matplotlib.axes._subplots.AxesSubplot at 0x31743e48>"
      ]
     },
     "execution_count": 36,
     "metadata": {},
     "output_type": "execute_result"
    },
    {
     "data": {
      "image/png": "[encoded data removed]",
      "text/plain": [
       "<Figure size 1080x576 with 1 Axes>"
      ]
     },
     "metadata": {},
     "output_type": "display_data"
    }
   ],
   "source": [
    "df['source'].value_counts().head(10).plot(kind='bar', figsize=(15,8))"
   ]
  },
  {
   "cell_type": "markdown",
   "metadata": {},
   "source": [
    "year"
   ]
  },
  {
   "cell_type": "code",
   "execution_count": 37,
   "metadata": {},
   "outputs": [
    {
     "data": {
      "text/plain": [
       "2017    467260\n",
       "2016    436393\n",
       "Name: year, dtype: int64"
      ]
     },
     "execution_count": 37,
     "metadata": {},
     "output_type": "execute_result"
    }
   ],
   "source": [
    "df['year'].value_counts()"
   ]
  },
  {
   "cell_type": "code",
   "execution_count": 38,
   "metadata": {},
   "outputs": [
    {
     "data": {
      "text/plain": [
       "<matplotlib.axes._subplots.AxesSubplot at 0x31720358>"
      ]
     },
     "execution_count": 38,
     "metadata": {},
     "output_type": "execute_result"
    },
    {
     "data": {
      "image/png": "[encoded data removed]",
      "text/plain": [
       "<Figure size 1080x576 with 1 Axes>"
      ]
     },
     "metadata": {},
     "output_type": "display_data"
    }
   ],
   "source": [
    "df['year'].value_counts().plot(kind='bar', figsize=(15,8))"
   ]
  },
  {
   "cell_type": "markdown",
   "metadata": {},
   "source": [
    "group by country and hit"
   ]
  },
  {
   "cell_type": "code",
   "execution_count": 39,
   "metadata": {},
   "outputs": [
    {
     "data": {
      "text/plain": [
       "country\n",
       "(not set)                   1468\n",
       "Afghanistan                   57\n",
       "Albania                      547\n",
       "Algeria                     2055\n",
       "American Samoa                 1\n",
       "Andorra                       17\n",
       "Angola                        58\n",
       "Anguilla                       1\n",
       "Antigua & Barbuda              5\n",
       "Argentina                   5037\n",
       "Armenia                      280\n",
       "Aruba                         29\n",
       "Australia                  12698\n",
       "Austria                     2796\n",
       "Azerbaijan                   569\n",
       "Bahamas                       40\n",
       "Bahrain                      256\n",
       "Bangladesh                  2297\n",
       "Barbados                      55\n",
       "Belarus                      976\n",
       "Belgium                     4442\n",
       "Belize                        27\n",
       "Benin                         42\n",
       "Bermuda                       38\n",
       "Bhutan                         8\n",
       "Bolivia                      318\n",
       "Bosnia & Herzegovina         903\n",
       "Botswana                      14\n",
       "Brazil                     19783\n",
       "British Virgin Islands         5\n",
       "                           ...  \n",
       "Sweden                      5315\n",
       "Switzerland                 4427\n",
       "Syria                         10\n",
       "São Tomé & Príncipe            1\n",
       "Taiwan                     12996\n",
       "Tajikistan                    12\n",
       "Tanzania                     260\n",
       "Thailand                   20123\n",
       "Timor-Leste                    7\n",
       "Togo                          32\n",
       "Trinidad & Tobago            164\n",
       "Tunisia                     1194\n",
       "Turkey                     20522\n",
       "Turkmenistan                   5\n",
       "Turks & Caicos Islands        14\n",
       "U.S. Virgin Islands           22\n",
       "Uganda                       166\n",
       "Ukraine                     5577\n",
       "United Arab Emirates        3144\n",
       "United Kingdom             37393\n",
       "United States             364744\n",
       "Uruguay                      627\n",
       "Uzbekistan                    96\n",
       "Vanuatu                        3\n",
       "Venezuela                   2132\n",
       "Vietnam                    24598\n",
       "Yemen                         96\n",
       "Zambia                        40\n",
       "Zimbabwe                      59\n",
       "Åland Islands                  1\n",
       "Name: hits, Length: 222, dtype: int64"
      ]
     },
     "execution_count": 39,
     "metadata": {},
     "output_type": "execute_result"
    }
   ],
   "source": [
    "df.groupby(['country'])['hits'].count()"
   ]
  },
  {
   "cell_type": "code",
   "execution_count": 40,
   "metadata": {},
   "outputs": [
    {
     "data": {
      "text/plain": [
       "<matplotlib.axes._subplots.AxesSubplot at 0x322ec6d8>"
      ]
     },
     "execution_count": 40,
     "metadata": {},
     "output_type": "execute_result"
    },
    {
     "data": {
      "image/png": "[encoded data removed]",
      "text/plain": [
       "<Figure size 1080x576 with 1 Axes>"
      ]
     },
     "metadata": {},
     "output_type": "display_data"
    }
   ],
   "source": [
    "df.groupby(['country'])['hits'].count().sort_values().tail(10).plot(kind='barh', figsize=(15,8))"
   ]
  },
  {
   "cell_type": "markdown",
   "metadata": {},
   "source": [
    "group by country and pageviews"
   ]
  },
  {
   "cell_type": "code",
   "execution_count": 41,
   "metadata": {},
   "outputs": [
    {
     "data": {
      "text/plain": [
       "country\n",
       "(not set)                   1466\n",
       "Afghanistan                   57\n",
       "Albania                      547\n",
       "Algeria                     2055\n",
       "American Samoa                 1\n",
       "Andorra                       17\n",
       "Angola                        58\n",
       "Anguilla                       1\n",
       "Antigua & Barbuda              5\n",
       "Argentina                   5032\n",
       "Armenia                      280\n",
       "Aruba                         29\n",
       "Australia                  12696\n",
       "Austria                     2796\n",
       "Azerbaijan                   569\n",
       "Bahamas                       40\n",
       "Bahrain                      256\n",
       "Bangladesh                  2297\n",
       "Barbados                      55\n",
       "Belarus                      976\n",
       "Belgium                     4442\n",
       "Belize                        27\n",
       "Benin                         42\n",
       "Bermuda                       38\n",
       "Bhutan                         8\n",
       "Bolivia                      318\n",
       "Bosnia & Herzegovina         903\n",
       "Botswana                      14\n",
       "Brazil                     19781\n",
       "British Virgin Islands         5\n",
       "                           ...  \n",
       "Sweden                      5315\n",
       "Switzerland                 4427\n",
       "Syria                         10\n",
       "São Tomé & Príncipe            1\n",
       "Taiwan                     12995\n",
       "Tajikistan                    12\n",
       "Tanzania                     260\n",
       "Thailand                   20123\n",
       "Timor-Leste                    7\n",
       "Togo                          32\n",
       "Trinidad & Tobago            164\n",
       "Tunisia                     1194\n",
       "Turkey                     20522\n",
       "Turkmenistan                   5\n",
       "Turks & Caicos Islands        14\n",
       "U.S. Virgin Islands           22\n",
       "Uganda                       166\n",
       "Ukraine                     5576\n",
       "United Arab Emirates        3144\n",
       "United Kingdom             37389\n",
       "United States             364697\n",
       "Uruguay                      627\n",
       "Uzbekistan                    96\n",
       "Vanuatu                        3\n",
       "Venezuela                   2132\n",
       "Vietnam                    24596\n",
       "Yemen                         96\n",
       "Zambia                        40\n",
       "Zimbabwe                      59\n",
       "Åland Islands                  1\n",
       "Name: pageviews, Length: 222, dtype: int64"
      ]
     },
     "execution_count": 41,
     "metadata": {},
     "output_type": "execute_result"
    }
   ],
   "source": [
    "df.groupby(['country'])['pageviews'].count()"
   ]
  },
  {
   "cell_type": "code",
   "execution_count": 42,
   "metadata": {},
   "outputs": [
    {
     "data": {
      "text/plain": [
       "<matplotlib.axes._subplots.AxesSubplot at 0x328c2208>"
      ]
     },
     "execution_count": 42,
     "metadata": {},
     "output_type": "execute_result"
    },
    {
     "data": {
      "image/png": "[encoded data removed]",
      "text/plain": [
       "<Figure size 1080x576 with 1 Axes>"
      ]
     },
     "metadata": {},
     "output_type": "display_data"
    }
   ],
   "source": [
    "df.groupby(['country'])['pageviews'].count().sort_values().tail(10).plot(kind='barh', figsize=(15,8))"
   ]
  },
  {
   "cell_type": "markdown",
   "metadata": {},
   "source": [
    "Doing analysis in transactionRevenue data needs to be in numeric format"
   ]
  },
  {
   "cell_type": "code",
   "execution_count": 22,
   "metadata": {
    "collapsed": true
   },
   "outputs": [],
   "source": [
    "df['transactionRevenue']=df['transactionRevenue'].fillna(0)\n",
    "df['transactionRevenue']=df['transactionRevenue'].astype(np.int64)"
   ]
  },
  {
   "cell_type": "code",
   "execution_count": 23,
   "metadata": {},
   "outputs": [
    {
     "data": {
      "text/plain": [
       "deviceCategory\n",
       "desktop    1480864090000\n",
       "mobile       49785810000\n",
       "tablet        9421340000\n",
       "Name: transactionRevenue, dtype: int64"
      ]
     },
     "execution_count": 23,
     "metadata": {},
     "output_type": "execute_result"
    }
   ],
   "source": [
    "df.groupby(['deviceCategory'])['transactionRevenue'].sum()"
   ]
  },
  {
   "cell_type": "code",
   "execution_count": 24,
   "metadata": {},
   "outputs": [
    {
     "data": {
      "text/plain": [
       "<matplotlib.axes._subplots.AxesSubplot at 0x28d53d68>"
      ]
     },
     "execution_count": 24,
     "metadata": {},
     "output_type": "execute_result"
    },
    {
     "data": {
      "image/png": "[encoded data removed]",
      "text/plain": [
       "<Figure size 1080x576 with 1 Axes>"
      ]
     },
     "metadata": {},
     "output_type": "display_data"
    }
   ],
   "source": [
    "df.groupby(['deviceCategory'])['transactionRevenue'].sum().plot(kind='bar',figsize=(15,8))"
   ]
  },
  {
   "cell_type": "code",
   "execution_count": null,
   "metadata": {
    "collapsed": true
   },
   "outputs": [],
   "source": [
    "df.groupby(['country'])['transactionRevenue'].sum().sort_values()"
   ]
  },
  {
   "cell_type": "code",
   "execution_count": null,
   "metadata": {
    "collapsed": true
   },
   "outputs": [],
   "source": [
    "df.groupby(['country'])['transactionRevenue'].sum().sort_values().tail(10).plot(kind='barh', figsize=(15,8))"
   ]
  },
  {
   "cell_type": "code",
   "execution_count": null,
   "metadata": {
    "collapsed": true
   },
   "outputs": [],
   "source": [
    "df.groupby(['browser'])['transactionRevenue'].sum().sort_values()"
   ]
  },
  {
   "cell_type": "code",
   "execution_count": null,
   "metadata": {
    "collapsed": true
   },
   "outputs": [],
   "source": [
    "df.groupby(['browser'])['transactionRevenue'].sum().sort_values().tail(10).plot(kind='barh', figsize=(15,8))"
   ]
  },
  {
   "cell_type": "code",
   "execution_count": null,
   "metadata": {
    "collapsed": true
   },
   "outputs": [],
   "source": [
    "df.groupby(['date'])['transactionRevenue'].sum().sort_values().tail(10)"
   ]
  },
  {
   "cell_type": "code",
   "execution_count": null,
   "metadata": {
    "collapsed": true
   },
   "outputs": [],
   "source": [
    "df.groupby(['date'])['transactionRevenue'].sum().sort_values().tail(10).plot(kind='barh', figsize=(15,8))"
   ]
  },
  {
   "cell_type": "code",
   "execution_count": null,
   "metadata": {
    "collapsed": true
   },
   "outputs": [],
   "source": [
    "df.groupby(['channelGrouping'])['transactionRevenue'].sum()"
   ]
  },
  {
   "cell_type": "code",
   "execution_count": null,
   "metadata": {
    "collapsed": true
   },
   "outputs": [],
   "source": [
    "df.groupby(['channelGrouping'])['transactionRevenue'].sum().sort_values().plot(kind='barh', figsize=(15,8))"
   ]
  },
  {
   "cell_type": "markdown",
   "metadata": {},
   "source": [
    "# Select Useful Columns"
   ]
  },
  {
   "cell_type": "code",
   "execution_count": 15,
   "metadata": {},
   "outputs": [
    {
     "data": {
      "text/plain": [
       "(903653, 24)"
      ]
     },
     "execution_count": 15,
     "metadata": {},
     "output_type": "execute_result"
    }
   ],
   "source": [
    "df=df[['channelGrouping', 'fullVisitorId', 'visitNumber','browser', 'deviceCategory', 'operatingSystem', 'continent',\n",
    "       'subContinent', 'region', 'country', 'city', 'bounces', 'hits','newVisits', 'pageviews', 'visits', 'transactionRevenue',\n",
    "        'campaign', 'keyword', 'medium', 'source','page','adNetworkType','month']]\n",
    "\n",
    "df.shape"
   ]
  },
  {
   "cell_type": "markdown",
   "metadata": {},
   "source": [
    "# Working with Missing Values"
   ]
  },
  {
   "cell_type": "markdown",
   "metadata": {},
   "source": [
    "fill nan with 0"
   ]
  },
  {
   "cell_type": "code",
   "execution_count": 16,
   "metadata": {
    "collapsed": true
   },
   "outputs": [],
   "source": [
    "df=df.fillna(0)"
   ]
  },
  {
   "cell_type": "markdown",
   "metadata": {},
   "source": [
    "convert data types to int for numeric variables"
   ]
  },
  {
   "cell_type": "code",
   "execution_count": 17,
   "metadata": {
    "collapsed": true
   },
   "outputs": [],
   "source": [
    "df['transactionRevenue']=df['transactionRevenue'].astype(np.int64)\n",
    "df['hits']=df['hits'].astype(str).astype(np.int)\n",
    "df['bounces']=df['bounces'].astype(str).astype(np.int)\n",
    "df['newVisits']=df['newVisits'].astype(str).astype(np.int)\n",
    "df['pageviews']=df['pageviews'].astype(str).astype(np.int)\n",
    "df['visits']=df['visits'].astype(str).astype(np.int)"
   ]
  },
  {
   "cell_type": "markdown",
   "metadata": {},
   "source": [
    "# Preprocess Data"
   ]
  },
  {
   "cell_type": "code",
   "execution_count": 18,
   "metadata": {
    "collapsed": true
   },
   "outputs": [],
   "source": [
    "#Preprocess Data\n",
    "df['channelGrouping']=le.fit_transform(df['channelGrouping'].astype(str))\n",
    "df['browser']=le.fit_transform(df['browser'].astype(str))\n",
    "df['deviceCategory']=le.fit_transform(df['deviceCategory'].astype(str))\n",
    "df['operatingSystem']=le.fit_transform(df['operatingSystem'].astype(str))\n",
    "df['continent']=le.fit_transform(df['continent'].astype(str))\n",
    "df['subContinent']=le.fit_transform(df['subContinent'].astype(str))\n",
    "df['region']=le.fit_transform(df['region'].astype(str))\n",
    "df['country']=le.fit_transform(df['country'].astype(str))\n",
    "df['city']=le.fit_transform(df['city'].astype(str))\n",
    "df['campaign']=le.fit_transform(df['campaign'].astype(str))\n",
    "df['keyword']=le.fit_transform(df['keyword'].astype(str))\n",
    "df['medium']=le.fit_transform(df['medium'].astype(str))\n",
    "df['source']=le.fit_transform(df['source'].astype(str))\n",
    "df['adNetworkType']=le.fit_transform(df['adNetworkType'].astype(str))"
   ]
  },
  {
   "cell_type": "markdown",
   "metadata": {},
   "source": [
    "Prepare the Target Field"
   ]
  },
  {
   "cell_type": "code",
   "execution_count": 19,
   "metadata": {
    "collapsed": true
   },
   "outputs": [],
   "source": [
    "df['revenueLog']=df['transactionRevenue'].apply(lambda x :  np.log1p(x) if x>0 else 0)"
   ]
  },
  {
   "cell_type": "code",
   "execution_count": null,
   "metadata": {
    "collapsed": true
   },
   "outputs": [],
   "source": []
  },
  {
   "cell_type": "markdown",
   "metadata": {},
   "source": [
    "# Prepare Test Data"
   ]
  },
  {
   "cell_type": "code",
   "execution_count": 5,
   "metadata": {
    "collapsed": true
   },
   "outputs": [],
   "source": [
    "test_device_df=pd.DataFrame(test['device'].apply(json.loads).tolist())[['browser','deviceCategory','operatingSystem','language','browserVersion','browserSize','mobileDeviceMarketingName','mobileDeviceModel','screenResolution']]\n",
    "test_geoNetwork_df=pd.DataFrame(test['geoNetwork'].apply(json.loads).tolist())[['continent','subContinent','region','country','city','metro','networkLocation','latitude','longitude','networkDomain']]\n",
    "test_totals_df=pd.DataFrame(test['totals'].apply(json.loads).tolist())[['bounces','hits','newVisits','pageviews','visits']]\n",
    "test_trafficSource_df=pd.DataFrame(test['trafficSource'].apply(json.loads).tolist())[['adwordsClickInfo','campaign','keyword','medium','source','isTrueDirect','referralPath','adContent']]\n",
    "test_adwordsClickInfo_df=pd.DataFrame(test_trafficSource_df['adwordsClickInfo'].apply(json.dumps).apply(json.loads).tolist())[['criteriaParameters','page','isVideoAd','gclId','adNetworkType','slot','targetingCriteria']]\n",
    "\n",
    "test_df=pd.concat([test[['channelGrouping', 'date', 'device', 'geoNetwork','sessionId', 'socialEngagementType', 'totals', 'trafficSource',\n",
    "       'visitId', 'visitNumber', 'visitStartTime']], test_device_df, test_geoNetwork_df, test_totals_df, test_trafficSource_df, test_adwordsClickInfo_df], axis=1)\n",
    "\n",
    "test_df['date']=pd.to_datetime(test_df['date'], format=\"%Y%m%d\")\n",
    "test_df['visitStartTime']=pd.to_datetime(test_df['visitStartTime'],unit='s')\n",
    "#Getting year, month and day from date\n",
    "test_df['year']=test_df['date'].dt.year\n",
    "test_df['month']=test_df['date'].dt.month\n",
    "test_df['day']=test_df['date'].dt.day\n",
    "\n",
    "#Getting hour and minute from visitStartTime\n",
    "test_df['hour']=test_df['visitStartTime'].dt.hour\n",
    "test_df['minute']=test_df['visitStartTime'].dt.minute\n",
    "test_df=test_df.fillna(0)\n",
    "\n",
    "test_df['hits']=test_df['hits'].astype(str).astype(np.int)\n",
    "test_df['bounces']=test_df['bounces'].astype(str).astype(np.int)\n",
    "test_df['newVisits']=test_df['newVisits'].astype(str).astype(np.int)\n",
    "test_df['pageviews']=test_df['pageviews'].astype(str).astype(np.int)\n",
    "test_df['visits']=test_df['visits'].astype(str).astype(np.int)\n",
    "\n",
    "#Preprocess Data\n",
    "test_df['channelGrouping']=le.fit_transform(test_df['channelGrouping'].astype(str))\n",
    "test_df['browser']=le.fit_transform(test_df['browser'].astype(str))\n",
    "test_df['deviceCategory']=le.fit_transform(test_df['deviceCategory'].astype(str))\n",
    "test_df['operatingSystem']=le.fit_transform(test_df['operatingSystem'].astype(str))\n",
    "test_df['continent']=le.fit_transform(test_df['continent'].astype(str))\n",
    "test_df['subContinent']=le.fit_transform(test_df['subContinent'].astype(str))\n",
    "test_df['region']=le.fit_transform(test_df['region'].astype(str))\n",
    "test_df['country']=le.fit_transform(test_df['country'].astype(str))\n",
    "test_df['city']=le.fit_transform(test_df['city'].astype(str))\n",
    "test_df['campaign']=le.fit_transform(test_df['campaign'].astype(str))\n",
    "test_df['keyword']=le.fit_transform(test_df['keyword'].astype(str))\n",
    "test_df['medium']=le.fit_transform(test_df['medium'].astype(str))\n",
    "test_df['source']=le.fit_transform(test_df['source'].astype(str))\n",
    "test_df['adNetworkType']=le.fit_transform(test_df['adNetworkType'].astype(str))"
   ]
  },
  {
   "cell_type": "code",
   "execution_count": 6,
   "metadata": {},
   "outputs": [
    {
     "data": {
      "text/plain": [
       "(804684, 22)"
      ]
     },
     "execution_count": 6,
     "metadata": {},
     "output_type": "execute_result"
    }
   ],
   "source": [
    "test_df=test_df[['channelGrouping', 'visitNumber','browser', 'deviceCategory', 'operatingSystem', 'continent',\n",
    "       'subContinent', 'region', 'country', 'city', 'bounces', 'hits','newVisits', 'pageviews', 'visits',\n",
    "        'campaign', 'keyword', 'medium', 'source','page','adNetworkType','month']]\n",
    "\n",
    "test_df.shape"
   ]
  },
  {
   "cell_type": "markdown",
   "metadata": {},
   "source": [
    "# Training Model"
   ]
  },
  {
   "cell_type": "markdown",
   "metadata": {},
   "source": [
    "split data into training and validation sets"
   ]
  },
  {
   "cell_type": "code",
   "execution_count": null,
   "metadata": {},
   "outputs": [],
   "source": [
    "X=df[['channelGrouping','visitNumber','browser', 'deviceCategory', 'operatingSystem', 'continent',\n",
    "       'subContinent', 'region', 'country', 'city', 'bounces', 'hits','newVisits', 'pageviews', 'visits',\n",
    "        'campaign', 'keyword', 'medium', 'source','page','adNetworkType','month']]\n",
    "y=df['revenueLog']\n",
    "\n",
    "X_train,X_test,y_train,y_test=train_test_split(X,y,test_size=0.3, random_state=7)"
   ]
  },
  {
   "cell_type": "markdown",
   "metadata": {},
   "source": [
    "Training Model"
   ]
  },
  {
   "cell_type": "code",
   "execution_count": null,
   "metadata": {
    "collapsed": true
   },
   "outputs": [],
   "source": [
    "rf_model=RandomForestRegressor()\n",
    "rf_model.fit(X_train,y_train)\n",
    "pred_test=rf_model.predict(X_test)\n",
    "joblib.dump(rf_model,'Google Customer Revenue Prediction Model.pkl') #Save model into a pickle file\n",
    "\n",
    "print(pred_test[0:5])\n",
    "print(np.sqrt(metrics.mean_squared_error(y_test,pred_test)))"
   ]
  },
  {
   "cell_type": "markdown",
   "metadata": {},
   "source": [
    "Feature importance"
   ]
  },
  {
   "cell_type": "code",
   "execution_count": 41,
   "metadata": {},
   "outputs": [
    {
     "data": {
      "image/png": "[encoded data removed]",
      "text/plain": [
       "<Figure size 1152x648 with 1 Axes>"
      ]
     },
     "metadata": {},
     "output_type": "display_data"
    }
   ],
   "source": [
    "importances=rf_model.feature_importances_\n",
    "indices=np.argsort(importances)[::-1]\n",
    "features = [X.columns[i] for i in indices]\n",
    "\n",
    "plt.figure(figsize=(16,9))\n",
    "plt.title(\"Feature Importance\")\n",
    "plt.bar(range(X.shape[1]), importances[indices])\n",
    "# Add feature names as x-axis labels\n",
    "plt.xticks(range(X.shape[1]), features, rotation=90)\n",
    "plt.show()"
   ]
  },
  {
   "cell_type": "markdown",
   "metadata": {},
   "source": [
    "# Preparing Submision"
   ]
  },
  {
   "cell_type": "code",
   "execution_count": null,
   "metadata": {
    "collapsed": true
   },
   "outputs": [],
   "source": [
    "sub_df = pd.DataFrame({\"fullVisitorId\":test_id})\n",
    "pred_test[pred_test<0] = 0\n",
    "sub_df[\"PredictedLogRevenue\"] = np.expm1(pred_test)\n",
    "sub_df = sub_df.groupby(\"fullVisitorId\")[\"PredictedLogRevenue\"].sum().reset_index()\n",
    "sub_df.columns = [\"fullVisitorId\", \"PredictedLogRevenue\"]\n",
    "sub_df[\"PredictedLogRevenue\"] = np.log1p(sub_df[\"PredictedLogRevenue\"])\n",
    "sub_df.to_csv(\"baseline_lgb.csv\", index=False)"
   ]
  },
  {
   "cell_type": "code",
   "execution_count": 15,
   "metadata": {},
   "outputs": [
    {
     "data": {
      "text/html": [
       "<div>\n",
       "<style>\n",
       "    .dataframe thead tr:only-child th {\n",
       "        text-align: right;\n",
       "    }\n",
       "\n",
       "    .dataframe thead th {\n",
       "        text-align: left;\n",
       "    }\n",
       "\n",
       "    .dataframe tbody tr th {\n",
       "        vertical-align: top;\n",
       "    }\n",
       "</style>\n",
       "<table border=\"1\" class=\"dataframe\">\n",
       "  <thead>\n",
       "    <tr style=\"text-align: right;\">\n",
       "      <th></th>\n",
       "      <th>fullVisitorId</th>\n",
       "      <th>PredictedLogRevenue</th>\n",
       "    </tr>\n",
       "  </thead>\n",
       "  <tbody>\n",
       "    <tr>\n",
       "      <th>0</th>\n",
       "      <td>3038793126460</td>\n",
       "      <td>0.0</td>\n",
       "    </tr>\n",
       "    <tr>\n",
       "      <th>1</th>\n",
       "      <td>9663019041506</td>\n",
       "      <td>0.0</td>\n",
       "    </tr>\n",
       "    <tr>\n",
       "      <th>2</th>\n",
       "      <td>10992980461157</td>\n",
       "      <td>0.0</td>\n",
       "    </tr>\n",
       "    <tr>\n",
       "      <th>3</th>\n",
       "      <td>17196000342279</td>\n",
       "      <td>0.0</td>\n",
       "    </tr>\n",
       "    <tr>\n",
       "      <th>4</th>\n",
       "      <td>18672749561458</td>\n",
       "      <td>0.0</td>\n",
       "    </tr>\n",
       "  </tbody>\n",
       "</table>\n",
       "</div>"
      ],
      "text/plain": [
       "    fullVisitorId  PredictedLogRevenue\n",
       "0   3038793126460                  0.0\n",
       "1   9663019041506                  0.0\n",
       "2  10992980461157                  0.0\n",
       "3  17196000342279                  0.0\n",
       "4  18672749561458                  0.0"
      ]
     },
     "execution_count": 15,
     "metadata": {},
     "output_type": "execute_result"
    }
   ],
   "source": [
    "model=joblib.load('Google Customer Revenue Prediction Model.pkl')\n",
    "pred = model.predict(test_df)\n",
    "test[\"PredictedLogRevenue\"] = np.expm1(pred)\n",
    "submission = test.groupby(\"fullVisitorId\").agg({\"PredictedLogRevenue\" : \"sum\"}).reset_index()\n",
    "submission[\"PredictedLogRevenue\"] = np.log1p(submission[\"PredictedLogRevenue\"])\n",
    "submission[\"PredictedLogRevenue\"] =  submission[\"PredictedLogRevenue\"].apply(lambda x : 0 if x < 0 else x)\n",
    "submission['fullVisitorId']=submission['fullVisitorId'].apply(lambda x : str(x))\n",
    "submission.to_excel(\"Submission2.xlsx\", index=False) #[0:617242]\n",
    "submission.head()"
   ]
  },
  {
   "cell_type": "code",
   "execution_count": 10,
   "metadata": {},
   "outputs": [
    {
     "data": {
      "text/plain": [
       "dtype('O')"
      ]
     },
     "execution_count": 10,
     "metadata": {},
     "output_type": "execute_result"
    }
   ],
   "source": [
    "submission['fullVisitorId'].dtypes"
   ]
  },
  {
   "cell_type": "code",
   "execution_count": 16,
   "metadata": {},
   "outputs": [
    {
     "data": {
      "text/plain": [
       "(652237, 2)"
      ]
     },
     "execution_count": 16,
     "metadata": {},
     "output_type": "execute_result"
    }
   ],
   "source": [
    "submission.shape"
   ]
  },
  {
   "cell_type": "code",
   "execution_count": 19,
   "metadata": {
    "collapsed": true
   },
   "outputs": [],
   "source": [
    "sub=pd.read_excel(\"Submission2.xlsx\")\n",
    "samp=pd.read_csv(\"sample_submission.csv\")\n"
   ]
  },
  {
   "cell_type": "code",
   "execution_count": 29,
   "metadata": {},
   "outputs": [
    {
     "data": {
      "text/html": [
       "<div>\n",
       "<style>\n",
       "    .dataframe thead tr:only-child th {\n",
       "        text-align: right;\n",
       "    }\n",
       "\n",
       "    .dataframe thead th {\n",
       "        text-align: left;\n",
       "    }\n",
       "\n",
       "    .dataframe tbody tr th {\n",
       "        vertical-align: top;\n",
       "    }\n",
       "</style>\n",
       "<table border=\"1\" class=\"dataframe\">\n",
       "  <thead>\n",
       "    <tr style=\"text-align: right;\">\n",
       "      <th></th>\n",
       "      <th>fullVisitorId</th>\n",
       "      <th>PredictedLogRevenue_x</th>\n",
       "      <th>PredictedLogRevenue_y</th>\n",
       "    </tr>\n",
       "  </thead>\n",
       "  <tbody>\n",
       "    <tr>\n",
       "      <th>0</th>\n",
       "      <td>9663019041506</td>\n",
       "      <td>0.0</td>\n",
       "      <td>0.0</td>\n",
       "    </tr>\n",
       "    <tr>\n",
       "      <th>1</th>\n",
       "      <td>10992980461157</td>\n",
       "      <td>0.0</td>\n",
       "      <td>0.0</td>\n",
       "    </tr>\n",
       "    <tr>\n",
       "      <th>2</th>\n",
       "      <td>17196000342279</td>\n",
       "      <td>0.0</td>\n",
       "      <td>0.0</td>\n",
       "    </tr>\n",
       "    <tr>\n",
       "      <th>3</th>\n",
       "      <td>88751495106967</td>\n",
       "      <td>0.0</td>\n",
       "      <td>0.0</td>\n",
       "    </tr>\n",
       "    <tr>\n",
       "      <th>4</th>\n",
       "      <td>103125999355976</td>\n",
       "      <td>0.0</td>\n",
       "      <td>0.0</td>\n",
       "    </tr>\n",
       "  </tbody>\n",
       "</table>\n",
       "</div>"
      ],
      "text/plain": [
       "     fullVisitorId  PredictedLogRevenue_x  PredictedLogRevenue_y\n",
       "0    9663019041506                    0.0                    0.0\n",
       "1   10992980461157                    0.0                    0.0\n",
       "2   17196000342279                    0.0                    0.0\n",
       "3   88751495106967                    0.0                    0.0\n",
       "4  103125999355976                    0.0                    0.0"
      ]
     },
     "execution_count": 29,
     "metadata": {},
     "output_type": "execute_result"
    }
   ],
   "source": [
    "j=pd.merge(sub,samp, on='fullVisitorId', how='right')\n",
    "j.to_csv(\"Submission.csv\")\n",
    "j.head()"
   ]
  }
 ],
 "metadata": {
  "anaconda-cloud": {},
  "kernelspec": {
   "display_name": "Python 3",
   "language": "python",
   "name": "python3"
  },
  "language_info": {
   "codemirror_mode": {
    "name": "ipython",
    "version": 3
   },
   "file_extension": ".py",
   "mimetype": "text/x-python",
   "name": "python",
   "nbconvert_exporter": "python",
   "pygments_lexer": "ipython3",
   "version": "3.6.5"
  }
 },
 "nbformat": 4,
 "nbformat_minor": 2
}
